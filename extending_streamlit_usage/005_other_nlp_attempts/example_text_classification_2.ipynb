{
 "metadata": {
  "language_info": {
   "codemirror_mode": {
    "name": "ipython",
    "version": 3
   },
   "file_extension": ".py",
   "mimetype": "text/x-python",
   "name": "python",
   "nbconvert_exporter": "python",
   "pygments_lexer": "ipython3",
   "version": "3.8.3"
  },
  "orig_nbformat": 2,
  "kernelspec": {
   "name": "python3",
   "display_name": "Python 3.8.3 64-bit ('base': conda)"
  },
  "metadata": {
   "interpreter": {
    "hash": "15ce07131e6ac9ef2286e9dc443e97a8b7a1385e6fe0cfbd91ad33021bc29612"
   }
  },
  "interpreter": {
   "hash": "15ce07131e6ac9ef2286e9dc443e97a8b7a1385e6fe0cfbd91ad33021bc29612"
  }
 },
 "nbformat": 4,
 "nbformat_minor": 2,
 "cells": [
  {
   "cell_type": "code",
   "execution_count": 17,
   "metadata": {},
   "outputs": [],
   "source": [
    "## data\n",
    "import numpy\n",
    "import pandas as pd\n",
    "import xlrd\n",
    "## plot\n",
    "import matplotlib\n",
    "import seaborn\n",
    "## machine learning\n",
    "# import scikit-learn\n",
    "import sklearn\n",
    "import lime\n",
    "## deep learning\n",
    "import tensorflow\n",
    "import shap\n",
    "## nlp\n",
    "import nltk\n",
    "import spacy\n",
    "import gensim\n",
    "import wordcloud\n",
    "import langdetect\n",
    "import textblob\n",
    "import transformers\n",
    "import rouge"
   ]
  },
  {
   "cell_type": "code",
   "execution_count": 20,
   "metadata": {},
   "outputs": [
    {
     "output_type": "execute_result",
     "data": {
      "text/plain": [
       "{'category': 'CRIME',\n",
       " 'headline': 'There Were 2 Mass Shootings In Texas Last Week, But Only 1 On TV',\n",
       " 'authors': 'Melissa Jeltsen',\n",
       " 'link': 'https://www.huffingtonpost.com/entry/texas-amanda-painter-mass-shooting_us_5b081ab4e4b0802d69caad89',\n",
       " 'short_description': 'She left her husband. He killed their children. Just another day in America.',\n",
       " 'date': '2018-05-26'}"
      ]
     },
     "metadata": {},
     "execution_count": 20
    }
   ],
   "source": [
    "# For the original file \"News_Category_Dataset_v2.json\"\n",
    "# Check https://www.kaggle.com/rmisra/news-category-dataset\n",
    "\n",
    "# The file \"News_Category_Dataset_v2_light.json\" contains only 10 records...\n",
    "import json\n",
    "\n",
    "lst_dics = []\n",
    "with open('datas/News_Category_Dataset_v2_light.json', mode='r', errors='ignore') as json_file:\n",
    "    for dic in json_file:\n",
    "        lst_dics.append( json.loads(dic) )\n",
    "    \n",
    "# OUTPUT\n",
    "lst_dics[0]\n"
   ]
  },
  {
   "cell_type": "code",
   "execution_count": 21,
   "metadata": {},
   "outputs": [
    {
     "output_type": "execute_result",
     "data": {
      "text/plain": [
       "               y                                               text\n",
       "8  ENTERTAINMENT  Mike Myers Reveals He'd 'Like To' Do A Fourth ...\n",
       "3  ENTERTAINMENT  Jim Carrey Blasts 'Castrato' Adam Schiff And D...\n",
       "4  ENTERTAINMENT  Julianna Margulies Uses Donald Trump Poop Bags...\n",
       "5  ENTERTAINMENT  Morgan Freeman 'Devastated' That Sexual Harass...\n",
       "9  ENTERTAINMENT         What To Watch On Hulu That’s New This Week"
      ],
      "text/html": "<div>\n<style scoped>\n    .dataframe tbody tr th:only-of-type {\n        vertical-align: middle;\n    }\n\n    .dataframe tbody tr th {\n        vertical-align: top;\n    }\n\n    .dataframe thead th {\n        text-align: right;\n    }\n</style>\n<table border=\"1\" class=\"dataframe\">\n  <thead>\n    <tr style=\"text-align: right;\">\n      <th></th>\n      <th>y</th>\n      <th>text</th>\n    </tr>\n  </thead>\n  <tbody>\n    <tr>\n      <th>8</th>\n      <td>ENTERTAINMENT</td>\n      <td>Mike Myers Reveals He'd 'Like To' Do A Fourth ...</td>\n    </tr>\n    <tr>\n      <th>3</th>\n      <td>ENTERTAINMENT</td>\n      <td>Jim Carrey Blasts 'Castrato' Adam Schiff And D...</td>\n    </tr>\n    <tr>\n      <th>4</th>\n      <td>ENTERTAINMENT</td>\n      <td>Julianna Margulies Uses Donald Trump Poop Bags...</td>\n    </tr>\n    <tr>\n      <th>5</th>\n      <td>ENTERTAINMENT</td>\n      <td>Morgan Freeman 'Devastated' That Sexual Harass...</td>\n    </tr>\n    <tr>\n      <th>9</th>\n      <td>ENTERTAINMENT</td>\n      <td>What To Watch On Hulu That’s New This Week</td>\n    </tr>\n  </tbody>\n</table>\n</div>"
     },
     "metadata": {},
     "execution_count": 21
    }
   ],
   "source": [
    "dtf = pd.DataFrame(lst_dics)\n",
    "dtf = dtf[ dtf[\"category\"].isin(['ENTERTAINMENT','POLITICS','TECH']) ][[\"category\",\"headline\"]]\n",
    "dtf = dtf.rename(columns={\"category\":\"y\", \"headline\":\"text\"})\n",
    "dtf.sample(5)"
   ]
  },
  {
   "cell_type": "code",
   "execution_count": 22,
   "metadata": {},
   "outputs": [
    {
     "output_type": "stream",
     "name": "stdout",
     "text": [
      "<class 'pandas.core.frame.DataFrame'>\nInt64Index: 9 entries, 1 to 9\nData columns (total 2 columns):\n #   Column  Non-Null Count  Dtype \n---  ------  --------------  ----- \n 0   y       9 non-null      object\n 1   text    9 non-null      object\ndtypes: object(2)\nmemory usage: 216.0+ bytes\n"
     ]
    }
   ],
   "source": [
    "# More infos\n",
    "dtf.info()\n"
   ]
  },
  {
   "source": [
    "## 1 - Text Analysis\n",
    "\n",
    "**Look for Metadata**\n",
    "\n",
    "- Language detection\n",
    "- Named-entities recognition\n",
    "- Text cleaning\n",
    "- Length analysis\n",
    "- Sentiment analysis\n",
    "- Word frequency\n",
    "- Target Variable¶\n",
    "\n"
   ],
   "cell_type": "markdown",
   "metadata": {}
  },
  {
   "cell_type": "code",
   "execution_count": null,
   "metadata": {},
   "outputs": [],
   "source": []
  }
 ]
}