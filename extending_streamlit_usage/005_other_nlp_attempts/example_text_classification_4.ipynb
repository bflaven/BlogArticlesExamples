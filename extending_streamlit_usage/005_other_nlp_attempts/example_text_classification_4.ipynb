{
 "metadata": {
  "language_info": {
   "codemirror_mode": {
    "name": "ipython",
    "version": 3
   },
   "file_extension": ".py",
   "mimetype": "text/x-python",
   "name": "python",
   "nbconvert_exporter": "python",
   "pygments_lexer": "ipython3",
   "version": "3.8.3"
  },
  "orig_nbformat": 2,
  "kernelspec": {
   "name": "python383jvsc74a57bd015ce07131e6ac9ef2286e9dc443e97a8b7a1385e6fe0cfbd91ad33021bc29612",
   "display_name": "Python 3.8.3 64-bit ('base': conda)"
  },
  "metadata": {
   "interpreter": {
    "hash": "15ce07131e6ac9ef2286e9dc443e97a8b7a1385e6fe0cfbd91ad33021bc29612"
   }
  }
 },
 "nbformat": 4,
 "nbformat_minor": 2,
 "cells": [
  {
   "cell_type": "code",
   "execution_count": 4,
   "metadata": {},
   "outputs": [],
   "source": [
    "## SOURCE :: https://towardsdatascience.com/text-analysis-feature-engineering-with-nlp-502d6ea9225d\n",
    "## SOURCE :: https://www.experfy.com/blog/ai-ml/text-classification-with-nlp-tf-idf-vs-word2vec-vs-bert/\n",
    "\n",
    "\n",
    "## for data\n",
    "import pandas as pd\n",
    "import collections\n",
    "import json\n",
    "## for plotting\n",
    "import matplotlib.pyplot as plt\n",
    "import seaborn as sns\n",
    "import wordcloud\n",
    "## for text processing\n",
    "import re\n",
    "import nltk\n",
    "## for language detection\n",
    "import langdetect \n",
    "## for sentiment\n",
    "from textblob import TextBlob\n",
    "## for ner\n",
    "import spacy\n",
    "## for vectorizer\n",
    "from sklearn import feature_extraction, manifold\n",
    "## for word embedding\n",
    "import gensim.downloader as gensim_api\n",
    "## for topic modeling\n",
    "import gensim"
   ]
  },
  {
   "cell_type": "code",
   "execution_count": 5,
   "metadata": {},
   "outputs": [
    {
     "output_type": "execute_result",
     "data": {
      "text/plain": [
       "{'category': 'CRIME',\n",
       " 'headline': 'There Were 2 Mass Shootings In Texas Last Week, But Only 1 On TV',\n",
       " 'authors': 'Melissa Jeltsen',\n",
       " 'link': 'https://www.huffingtonpost.com/entry/texas-amanda-painter-mass-shooting_us_5b081ab4e4b0802d69caad89',\n",
       " 'short_description': 'She left her husband. He killed their children. Just another day in America.',\n",
       " 'date': '2018-05-26'}"
      ]
     },
     "metadata": {},
     "execution_count": 5
    }
   ],
   "source": [
    "lst_dics = []\n",
    "with open('News_Category_Dataset_v2.json', mode='r', errors='ignore') as json_file:\n",
    "    for dic in json_file:\n",
    "        lst_dics.append( json.loads(dic) )\n",
    "## print the first one\n",
    "lst_dics[0]"
   ]
  },
  {
   "cell_type": "code",
   "execution_count": 6,
   "metadata": {},
   "outputs": [
    {
     "output_type": "execute_result",
     "data": {
      "text/plain": [
       "                    y                                               text\n",
       "50682        POLITICS  Trump Rails Against Press In Response To Repor...\n",
       "118790  ENTERTAINMENT  Nicki Minaj Throws Shade At Iggy Azalea At The...\n",
       "8228         POLITICS  Why Jeff Sessions Hates Stoners (Or Secretly L...\n",
       "36617        POLITICS              Don't March If You Won't Keep Walking\n",
       "110238       POLITICS             Clinton To Hit Campaign Trail For Dems"
      ],
      "text/html": "<div>\n<style scoped>\n    .dataframe tbody tr th:only-of-type {\n        vertical-align: middle;\n    }\n\n    .dataframe tbody tr th {\n        vertical-align: top;\n    }\n\n    .dataframe thead th {\n        text-align: right;\n    }\n</style>\n<table border=\"1\" class=\"dataframe\">\n  <thead>\n    <tr style=\"text-align: right;\">\n      <th></th>\n      <th>y</th>\n      <th>text</th>\n    </tr>\n  </thead>\n  <tbody>\n    <tr>\n      <th>50682</th>\n      <td>POLITICS</td>\n      <td>Trump Rails Against Press In Response To Repor...</td>\n    </tr>\n    <tr>\n      <th>118790</th>\n      <td>ENTERTAINMENT</td>\n      <td>Nicki Minaj Throws Shade At Iggy Azalea At The...</td>\n    </tr>\n    <tr>\n      <th>8228</th>\n      <td>POLITICS</td>\n      <td>Why Jeff Sessions Hates Stoners (Or Secretly L...</td>\n    </tr>\n    <tr>\n      <th>36617</th>\n      <td>POLITICS</td>\n      <td>Don't March If You Won't Keep Walking</td>\n    </tr>\n    <tr>\n      <th>110238</th>\n      <td>POLITICS</td>\n      <td>Clinton To Hit Campaign Trail For Dems</td>\n    </tr>\n  </tbody>\n</table>\n</div>"
     },
     "metadata": {},
     "execution_count": 6
    }
   ],
   "source": [
    "## create dtf\n",
    "dtf = pd.DataFrame(lst_dics)\n",
    "## filter categories\n",
    "dtf = dtf[ dtf[\"category\"].isin(['ENTERTAINMENT','POLITICS','TECH'])       ][[\"category\",\"headline\"]]\n",
    "## rename columns\n",
    "dtf = dtf.rename(columns={\"category\":\"y\", \"headline\":\"text\"})\n",
    "## print 5 random rows\n",
    "dtf.sample(5)\n",
    "\n",
    "# SHOW IMAGE\n",
    "# define axis\n",
    "# x = \"y\"\n",
    "# fig, ax = plt.subplots()\n",
    "# fig.suptitle(x, fontsize=12)\n",
    "# dtf[x].reset_index().groupby(x).count().sort_values(by= \"index\").plot(kind=\"barh\", legend=False, ax=ax).grid(axis='x')\n",
    "# plt.show()"
   ]
  },
  {
   "cell_type": "code",
   "execution_count": 7,
   "metadata": {},
   "outputs": [
    {
     "output_type": "stream",
     "name": "stdout",
     "text": [
      "Will Smith Joins Diplo And Nicky Jam For The 2018 World Cup's Official Song  -->  en\n"
     ]
    }
   ],
   "source": [
    "# Language Detection\n",
    "txt = dtf[\"text\"].iloc[0]\n",
    "print(txt, \" --> \", langdetect.detect(txt))"
   ]
  },
  {
   "cell_type": "code",
   "execution_count": 8,
   "metadata": {},
   "outputs": [],
   "source": [
    "# Add a column with the language information for the whole dataset\n",
    "\n",
    "dtf['lang'] = dtf[\"text\"].apply(lambda x: langdetect.detect(x)if x.strip() != \"\" else \"\")\n",
    "\n",
    "# print head dataset\n",
    "# CAUTION VERY LONG PROCESS, BE PATIENT\n",
    "# show the dataset with the language column\n",
    "# dtf.head()\n",
    "\n",
    "# show repartition by lang in a graphic\n",
    "# CAUTION VERY LONG PROCESS, BE PATIENT\n",
    "# x = \"lang\"\n",
    "# fig, ax = plt.subplots()\n",
    "# fig.suptitle(x, fontsize=12)\n",
    "# dtf[x].reset_index().groupby(x).count().sort_values(by=\"index\").plot(kind=\"barh\", legend=False, ax=ax).grid(axis='x')\n",
    "# plt.show()"
   ]
  },
  {
   "cell_type": "code",
   "execution_count": 20,
   "metadata": {},
   "outputs": [
    {
     "output_type": "stream",
     "name": "stdout",
     "text": [
      "--- original ---\nWill Smith Joins Diplo And Nicky Jam For The 2018 World Cup's Official Song\n--- cleaning ---\nwill smith joins diplo and nicky jam for the 2018 world cups official song\n--- tokenization ---\n['will', 'smith', 'joins', 'diplo', 'and', 'nicky', 'jam', 'for', 'the', '2018', 'world', 'cups', 'official', 'song']\n"
     ]
    }
   ],
   "source": [
    "# Text Preprocessing\n",
    "# CAUTION VERY LONG PROCESS, BE PATIENT\n",
    "print(\"--- original ---\")\n",
    "print(txt)\n",
    "\n",
    "print(\"--- cleaning ---\")\n",
    "txt = re.sub(r'[^\\w\\s]', '', str(txt).lower().strip())\n",
    "print(txt)\n",
    "\n",
    "print(\"--- tokenization ---\")\n",
    "txt = txt.split()\n",
    "print(txt)\n"
   ]
  },
  {
   "cell_type": "code",
   "execution_count": 9,
   "metadata": {},
   "outputs": [
    {
     "output_type": "execute_result",
     "data": {
      "text/plain": [
       "['i',\n",
       " 'me',\n",
       " 'my',\n",
       " 'myself',\n",
       " 'we',\n",
       " 'our',\n",
       " 'ours',\n",
       " 'ourselves',\n",
       " 'you',\n",
       " \"you're\",\n",
       " \"you've\",\n",
       " \"you'll\",\n",
       " \"you'd\",\n",
       " 'your',\n",
       " 'yours',\n",
       " 'yourself',\n",
       " 'yourselves',\n",
       " 'he',\n",
       " 'him',\n",
       " 'his',\n",
       " 'himself',\n",
       " 'she',\n",
       " \"she's\",\n",
       " 'her',\n",
       " 'hers',\n",
       " 'herself',\n",
       " 'it',\n",
       " \"it's\",\n",
       " 'its',\n",
       " 'itself',\n",
       " 'they',\n",
       " 'them',\n",
       " 'their',\n",
       " 'theirs',\n",
       " 'themselves',\n",
       " 'what',\n",
       " 'which',\n",
       " 'who',\n",
       " 'whom',\n",
       " 'this',\n",
       " 'that',\n",
       " \"that'll\",\n",
       " 'these',\n",
       " 'those',\n",
       " 'am',\n",
       " 'is',\n",
       " 'are',\n",
       " 'was',\n",
       " 'were',\n",
       " 'be',\n",
       " 'been',\n",
       " 'being',\n",
       " 'have',\n",
       " 'has',\n",
       " 'had',\n",
       " 'having',\n",
       " 'do',\n",
       " 'does',\n",
       " 'did',\n",
       " 'doing',\n",
       " 'a',\n",
       " 'an',\n",
       " 'the',\n",
       " 'and',\n",
       " 'but',\n",
       " 'if',\n",
       " 'or',\n",
       " 'because',\n",
       " 'as',\n",
       " 'until',\n",
       " 'while',\n",
       " 'of',\n",
       " 'at',\n",
       " 'by',\n",
       " 'for',\n",
       " 'with',\n",
       " 'about',\n",
       " 'against',\n",
       " 'between',\n",
       " 'into',\n",
       " 'through',\n",
       " 'during',\n",
       " 'before',\n",
       " 'after',\n",
       " 'above',\n",
       " 'below',\n",
       " 'to',\n",
       " 'from',\n",
       " 'up',\n",
       " 'down',\n",
       " 'in',\n",
       " 'out',\n",
       " 'on',\n",
       " 'off',\n",
       " 'over',\n",
       " 'under',\n",
       " 'again',\n",
       " 'further',\n",
       " 'then',\n",
       " 'once',\n",
       " 'here',\n",
       " 'there',\n",
       " 'when',\n",
       " 'where',\n",
       " 'why',\n",
       " 'how',\n",
       " 'all',\n",
       " 'any',\n",
       " 'both',\n",
       " 'each',\n",
       " 'few',\n",
       " 'more',\n",
       " 'most',\n",
       " 'other',\n",
       " 'some',\n",
       " 'such',\n",
       " 'no',\n",
       " 'nor',\n",
       " 'not',\n",
       " 'only',\n",
       " 'own',\n",
       " 'same',\n",
       " 'so',\n",
       " 'than',\n",
       " 'too',\n",
       " 'very',\n",
       " 's',\n",
       " 't',\n",
       " 'can',\n",
       " 'will',\n",
       " 'just',\n",
       " 'don',\n",
       " \"don't\",\n",
       " 'should',\n",
       " \"should've\",\n",
       " 'now',\n",
       " 'd',\n",
       " 'll',\n",
       " 'm',\n",
       " 'o',\n",
       " 're',\n",
       " 've',\n",
       " 'y',\n",
       " 'ain',\n",
       " 'aren',\n",
       " \"aren't\",\n",
       " 'couldn',\n",
       " \"couldn't\",\n",
       " 'didn',\n",
       " \"didn't\",\n",
       " 'doesn',\n",
       " \"doesn't\",\n",
       " 'hadn',\n",
       " \"hadn't\",\n",
       " 'hasn',\n",
       " \"hasn't\",\n",
       " 'haven',\n",
       " \"haven't\",\n",
       " 'isn',\n",
       " \"isn't\",\n",
       " 'ma',\n",
       " 'mightn',\n",
       " \"mightn't\",\n",
       " 'mustn',\n",
       " \"mustn't\",\n",
       " 'needn',\n",
       " \"needn't\",\n",
       " 'shan',\n",
       " \"shan't\",\n",
       " 'shouldn',\n",
       " \"shouldn't\",\n",
       " 'wasn',\n",
       " \"wasn't\",\n",
       " 'weren',\n",
       " \"weren't\",\n",
       " 'won',\n",
       " \"won't\",\n",
       " 'wouldn',\n",
       " \"wouldn't\"]"
      ]
     },
     "metadata": {},
     "execution_count": 9
    }
   ],
   "source": [
    "# Load generic stop words for the English vocabulary with NLTK\n",
    "lst_stopwords = nltk.corpus.stopwords.words(\"english\")\n",
    "lst_stopwords\n"
   ]
  },
  {
   "cell_type": "code",
   "execution_count": 10,
   "metadata": {},
   "outputs": [
    {
     "output_type": "stream",
     "name": "stdout",
     "text": [
      "--- remove stopwords ---\n['W', 'l', 'l', ' ', 'S', 'h', ' ', 'J', 'n', ' ', 'D', 'p', 'l', ' ', 'A', 'n', ' ', 'N', 'c', 'k', ' ', 'J', ' ', 'F', 'r', ' ', 'T', 'h', 'e', ' ', '2', '0', '1', '8', ' ', 'W', 'r', 'l', ' ', 'C', 'u', 'p', \"'\", ' ', 'O', 'f', 'f', 'c', 'l', ' ', 'S', 'n', 'g']\n"
     ]
    }
   ],
   "source": [
    " # remove those stop words from the first news headline\n",
    "\n",
    "print(\"--- remove stopwords ---\")\n",
    "txt = [word for word in txt if word not in lst_stopwords]\n",
    "print(txt)\n"
   ]
  },
  {
   "cell_type": "code",
   "execution_count": 23,
   "metadata": {},
   "outputs": [
    {
     "output_type": "stream",
     "name": "stdout",
     "text": [
      "--- stemming ---\n",
      "['W', 'l', 'l', ' ', 'S', 'h', ' ', 'J', 'n', ' ', 'D', 'p', 'l', ' ', 'A', 'n', ' ', 'N', 'c', 'k', ' ', 'J', ' ', 'F', 'r', ' ', 'T', 'h', 'e', ' ', '2', '0', '1', '8', ' ', 'W', 'r', 'l', ' ', 'C', 'u', 'p', \"'\", ' ', 'O', 'f', 'f', 'c', 'l', ' ', 'S', 'n', 'g']\n",
      "--- lemmatisation ---\n",
      "['W', 'l', 'l', ' ', 'S', 'h', ' ', 'J', 'n', ' ', 'D', 'p', 'l', ' ', 'A', 'n', ' ', 'N', 'c', 'k', ' ', 'J', ' ', 'F', 'r', ' ', 'T', 'h', 'e', ' ', '2', '0', '1', '8', ' ', 'W', 'r', 'l', ' ', 'C', 'u', 'p', \"'\", ' ', 'O', 'f', 'f', 'c', 'l', ' ', 'S', 'n', 'g']\n"
     ]
    }
   ],
   "source": [
    "# Stemming and Lemmatization\n",
    "\n",
    "print(\"--- stemming ---\")\n",
    "ps = nltk.stem.porter.PorterStemmer()\n",
    "print([ps.stem(word) for word in txt])\n",
    "\n",
    "print(\"--- lemmatisation ---\")\n",
    "lem = nltk.stem.wordnet.WordNetLemmatizer()\n",
    "print([lem.lemmatize(word) for word in txt])"
   ]
  },
  {
   "cell_type": "code",
   "execution_count": 11,
   "metadata": {},
   "outputs": [],
   "source": [
    "\n",
    "\n",
    "'''\n",
    "Preprocess a string.\n",
    ":parameter\n",
    "    :param text: string - name of column containing text\n",
    "    :param lst_stopwords: list - list of stopwords to remove\n",
    "    :param flg_stemm: bool - whether stemming is to be applied\n",
    "    :param flg_lemm: bool - whether lemmitisation is to be applied\n",
    ":return\n",
    "    cleaned text\n",
    "'''\n",
    "def utils_preprocess_text(text, flg_stemm=False, flg_lemm=True, lst_stopwords=None):\n",
    "    ## clean (convert to lowercase and remove punctuations and characters and then strip)\n",
    "    text = re.sub(r'[^\\w\\s]', '', str(text).lower().strip())\n",
    "            \n",
    "    ## Tokenize (convert from string to list)\n",
    "    lst_text = text.split()\n",
    "    ## remove Stopwords\n",
    "    if lst_stopwords is not None:\n",
    "        lst_text = [word for word in lst_text if word not in \n",
    "                    lst_stopwords]\n",
    "                \n",
    "    ## Stemming (remove -ing, -ly, ...)\n",
    "    if flg_stemm == True:\n",
    "        ps = nltk.stem.porter.PorterStemmer()\n",
    "        lst_text = [ps.stem(word) for word in lst_text]\n",
    "                \n",
    "    ## Lemmatisation (convert the word into root word)\n",
    "    if flg_lemm == True:\n",
    "        lem = nltk.stem.wordnet.WordNetLemmatizer()\n",
    "        lst_text = [lem.lemmatize(word) for word in lst_text]\n",
    "            \n",
    "    ## back to string from list\n",
    "    text = \" \".join(lst_text)\n",
    "    return text\n",
    "\n"
   ]
  },
  {
   "cell_type": "code",
   "execution_count": 27,
   "metadata": {},
   "outputs": [
    {
     "output_type": "execute_result",
     "data": {
      "text/plain": [
       "               y                                               text lang  \\\n",
       "1  ENTERTAINMENT  Will Smith Joins Diplo And Nicky Jam For The 2...   en   \n",
       "2  ENTERTAINMENT    Hugh Grant Marries For The First Time At Age 57   en   \n",
       "3  ENTERTAINMENT  Jim Carrey Blasts 'Castrato' Adam Schiff And D...   en   \n",
       "4  ENTERTAINMENT  Julianna Margulies Uses Donald Trump Poop Bags...   en   \n",
       "5  ENTERTAINMENT  Morgan Freeman 'Devastated' That Sexual Harass...   en   \n",
       "\n",
       "   word_count  char_count  sentence_count  avg_word_length  \\\n",
       "1          14          62               1         4.428571   \n",
       "2          10          38               1         3.800000   \n",
       "3          11          59               1         5.363636   \n",
       "4          13          59               1         4.538462   \n",
       "5          10          71               1         7.100000   \n",
       "\n",
       "   avg_sentence_lenght                                         text_clean  \n",
       "1                 14.0  smith join diplo nicky jam 2018 world cup offi...  \n",
       "2                 10.0               hugh grant marries first time age 57  \n",
       "3                 11.0  jim carrey blast castrato adam schiff democrat...  \n",
       "4                 13.0  julianna margulies us donald trump poop bag pi...  \n",
       "5                 10.0  morgan freeman devastated sexual harassment cl...  "
      ],
      "text/html": "<div>\n<style scoped>\n    .dataframe tbody tr th:only-of-type {\n        vertical-align: middle;\n    }\n\n    .dataframe tbody tr th {\n        vertical-align: top;\n    }\n\n    .dataframe thead th {\n        text-align: right;\n    }\n</style>\n<table border=\"1\" class=\"dataframe\">\n  <thead>\n    <tr style=\"text-align: right;\">\n      <th></th>\n      <th>y</th>\n      <th>text</th>\n      <th>lang</th>\n      <th>word_count</th>\n      <th>char_count</th>\n      <th>sentence_count</th>\n      <th>avg_word_length</th>\n      <th>avg_sentence_lenght</th>\n      <th>text_clean</th>\n    </tr>\n  </thead>\n  <tbody>\n    <tr>\n      <th>1</th>\n      <td>ENTERTAINMENT</td>\n      <td>Will Smith Joins Diplo And Nicky Jam For The 2...</td>\n      <td>en</td>\n      <td>14</td>\n      <td>62</td>\n      <td>1</td>\n      <td>4.428571</td>\n      <td>14.0</td>\n      <td>smith join diplo nicky jam 2018 world cup offi...</td>\n    </tr>\n    <tr>\n      <th>2</th>\n      <td>ENTERTAINMENT</td>\n      <td>Hugh Grant Marries For The First Time At Age 57</td>\n      <td>en</td>\n      <td>10</td>\n      <td>38</td>\n      <td>1</td>\n      <td>3.800000</td>\n      <td>10.0</td>\n      <td>hugh grant marries first time age 57</td>\n    </tr>\n    <tr>\n      <th>3</th>\n      <td>ENTERTAINMENT</td>\n      <td>Jim Carrey Blasts 'Castrato' Adam Schiff And D...</td>\n      <td>en</td>\n      <td>11</td>\n      <td>59</td>\n      <td>1</td>\n      <td>5.363636</td>\n      <td>11.0</td>\n      <td>jim carrey blast castrato adam schiff democrat...</td>\n    </tr>\n    <tr>\n      <th>4</th>\n      <td>ENTERTAINMENT</td>\n      <td>Julianna Margulies Uses Donald Trump Poop Bags...</td>\n      <td>en</td>\n      <td>13</td>\n      <td>59</td>\n      <td>1</td>\n      <td>4.538462</td>\n      <td>13.0</td>\n      <td>julianna margulies us donald trump poop bag pi...</td>\n    </tr>\n    <tr>\n      <th>5</th>\n      <td>ENTERTAINMENT</td>\n      <td>Morgan Freeman 'Devastated' That Sexual Harass...</td>\n      <td>en</td>\n      <td>10</td>\n      <td>71</td>\n      <td>1</td>\n      <td>7.100000</td>\n      <td>10.0</td>\n      <td>morgan freeman devastated sexual harassment cl...</td>\n    </tr>\n  </tbody>\n</table>\n</div>"
     },
     "metadata": {},
     "execution_count": 27
    }
   ],
   "source": [
    "\n",
    "\n",
    "# be sure to define dtf, don't mess with the arguments\n",
    "dtf[\"text_clean\"] = dtf[\"text\"].apply(lambda x:\n",
    "utils_preprocess_text(x, flg_stemm=False, flg_lemm=True,\n",
    "lst_stopwords=lst_stopwords))\n",
    "\n",
    "# output\n",
    "dtf.head()"
   ]
  },
  {
   "cell_type": "code",
   "execution_count": 28,
   "metadata": {},
   "outputs": [
    {
     "output_type": "stream",
     "name": "stdout",
     "text": [
      "Will Smith Joins Diplo And Nicky Jam For The 2018 World Cup's Official Song  -->  smith join diplo nicky jam 2018 world cup official song\n"
     ]
    }
   ],
   "source": [
    "\n",
    "# Print the first line original and then the same but cleaned\n",
    "print(dtf[\"text\"].iloc[0], \" --> \", dtf[\"text_clean\"].iloc[0])\n",
    "\n"
   ]
  },
  {
   "cell_type": "code",
   "execution_count": 12,
   "metadata": {},
   "outputs": [
    {
     "output_type": "execute_result",
     "data": {
      "text/plain": [
       "               y                                               text lang  \\\n",
       "1  ENTERTAINMENT  Will Smith Joins Diplo And Nicky Jam For The 2...   en   \n",
       "2  ENTERTAINMENT    Hugh Grant Marries For The First Time At Age 57   en   \n",
       "3  ENTERTAINMENT  Jim Carrey Blasts 'Castrato' Adam Schiff And D...   en   \n",
       "4  ENTERTAINMENT  Julianna Margulies Uses Donald Trump Poop Bags...   en   \n",
       "5  ENTERTAINMENT  Morgan Freeman 'Devastated' That Sexual Harass...   en   \n",
       "\n",
       "   word_count  char_count  sentence_count  avg_word_length  \\\n",
       "1          14          62               1         4.428571   \n",
       "2          10          38               1         3.800000   \n",
       "3          11          59               1         5.363636   \n",
       "4          13          59               1         4.538462   \n",
       "5          10          71               1         7.100000   \n",
       "\n",
       "   avg_sentence_lenght  \n",
       "1                 14.0  \n",
       "2                 10.0  \n",
       "3                 11.0  \n",
       "4                 13.0  \n",
       "5                 10.0  "
      ],
      "text/html": "<div>\n<style scoped>\n    .dataframe tbody tr th:only-of-type {\n        vertical-align: middle;\n    }\n\n    .dataframe tbody tr th {\n        vertical-align: top;\n    }\n\n    .dataframe thead th {\n        text-align: right;\n    }\n</style>\n<table border=\"1\" class=\"dataframe\">\n  <thead>\n    <tr style=\"text-align: right;\">\n      <th></th>\n      <th>y</th>\n      <th>text</th>\n      <th>lang</th>\n      <th>word_count</th>\n      <th>char_count</th>\n      <th>sentence_count</th>\n      <th>avg_word_length</th>\n      <th>avg_sentence_lenght</th>\n    </tr>\n  </thead>\n  <tbody>\n    <tr>\n      <th>1</th>\n      <td>ENTERTAINMENT</td>\n      <td>Will Smith Joins Diplo And Nicky Jam For The 2...</td>\n      <td>en</td>\n      <td>14</td>\n      <td>62</td>\n      <td>1</td>\n      <td>4.428571</td>\n      <td>14.0</td>\n    </tr>\n    <tr>\n      <th>2</th>\n      <td>ENTERTAINMENT</td>\n      <td>Hugh Grant Marries For The First Time At Age 57</td>\n      <td>en</td>\n      <td>10</td>\n      <td>38</td>\n      <td>1</td>\n      <td>3.800000</td>\n      <td>10.0</td>\n    </tr>\n    <tr>\n      <th>3</th>\n      <td>ENTERTAINMENT</td>\n      <td>Jim Carrey Blasts 'Castrato' Adam Schiff And D...</td>\n      <td>en</td>\n      <td>11</td>\n      <td>59</td>\n      <td>1</td>\n      <td>5.363636</td>\n      <td>11.0</td>\n    </tr>\n    <tr>\n      <th>4</th>\n      <td>ENTERTAINMENT</td>\n      <td>Julianna Margulies Uses Donald Trump Poop Bags...</td>\n      <td>en</td>\n      <td>13</td>\n      <td>59</td>\n      <td>1</td>\n      <td>4.538462</td>\n      <td>13.0</td>\n    </tr>\n    <tr>\n      <th>5</th>\n      <td>ENTERTAINMENT</td>\n      <td>Morgan Freeman 'Devastated' That Sexual Harass...</td>\n      <td>en</td>\n      <td>10</td>\n      <td>71</td>\n      <td>1</td>\n      <td>7.100000</td>\n      <td>10.0</td>\n    </tr>\n  </tbody>\n</table>\n</div>"
     },
     "metadata": {},
     "execution_count": 12
    }
   ],
   "source": [
    "\n",
    "# Length Analysis\n",
    "\n",
    "\n",
    "\"\"\"\n",
    "- word count: counts the number of tokens in the text (separated by a space)\n",
    "\n",
    "- character count: sum the number of characters of each token\n",
    "\n",
    "- sentence count: count the number of sentences (separated by a period)\n",
    "\n",
    "- average word length: sum of words length divided by the number of words (character count/word count)\n",
    "\n",
    "- average sentence length: sum of sentences length divided by the number of sentences (word count/sentence count)\n",
    "\n",
    "\"\"\"\n",
    "# word_count\n",
    "dtf['word_count'] = dtf[\"text\"].apply(lambda x: len(str(x).split(\" \")))\n",
    "\n",
    "# char_count\n",
    "dtf['char_count'] = dtf[\"text\"].apply(lambda x: sum(len(word) for word in str(x).split(\" \")))\n",
    "\n",
    "# sentence_count\n",
    "dtf['sentence_count'] = dtf[\"text\"].apply(lambda x: len(str(x).split(\".\")))\n",
    "\n",
    "# avg_word_length\n",
    "dtf['avg_word_length'] = dtf['char_count'] / dtf['word_count']\n",
    "\n",
    "# avg_sentence_lenght\n",
    "dtf['avg_sentence_lenght'] = dtf['word_count'] / dtf['sentence_count']\n",
    "\n",
    "# ouput\n",
    "dtf.head()\n",
    "\n"
   ]
  },
  {
   "cell_type": "code",
   "execution_count": 31,
   "metadata": {},
   "outputs": [
    {
     "output_type": "stream",
     "name": "stderr",
     "text": [
      "/Volumes/mi_disco/opt/anaconda3/lib/python3.8/site-packages/scipy/stats/stats.py:1713: FutureWarning: Using a non-tuple sequence for multidimensional indexing is deprecated; use `arr[tuple(seq)]` instead of `arr[seq]`. In the future this will be interpreted as an array index, `arr[np.array(seq)]`, which will result either in an error or a different result.\n  return np.add.reduce(sorted[indexer] * weights, axis=axis) / sumval\n/Volumes/mi_disco/opt/anaconda3/lib/python3.8/site-packages/scipy/stats/stats.py:1713: FutureWarning: Using a non-tuple sequence for multidimensional indexing is deprecated; use `arr[tuple(seq)]` instead of `arr[seq]`. In the future this will be interpreted as an array index, `arr[np.array(seq)]`, which will result either in an error or a different result.\n  return np.add.reduce(sorted[indexer] * weights, axis=axis) / sumval\n/Volumes/mi_disco/opt/anaconda3/lib/python3.8/site-packages/scipy/stats/stats.py:1713: FutureWarning: Using a non-tuple sequence for multidimensional indexing is deprecated; use `arr[tuple(seq)]` instead of `arr[seq]`. In the future this will be interpreted as an array index, `arr[np.array(seq)]`, which will result either in an error or a different result.\n  return np.add.reduce(sorted[indexer] * weights, axis=axis) / sumval\n"
     ]
    },
    {
     "output_type": "display_data",
     "data": {
      "text/plain": "<Figure size 432x288 with 2 Axes>",
      "image/svg+xml": "<?xml version=\"1.0\" encoding=\"utf-8\" standalone=\"no\"?>\n<!DOCTYPE svg PUBLIC \"-//W3C//DTD SVG 1.1//EN\"\n  \"http://www.w3.org/Graphics/SVG/1.1/DTD/svg11.dtd\">\n<!-- Created with matplotlib (https://matplotlib.org/) -->\n<svg height=\"290.99625pt\" version=\"1.1\" viewBox=\"0 0 388.0125 290.99625\" width=\"388.0125pt\" xmlns=\"http://www.w3.org/2000/svg\" xmlns:xlink=\"http://www.w3.org/1999/xlink\">\n <defs>\n  <style type=\"text/css\">\n*{stroke-linecap:butt;stroke-linejoin:round;}\n  </style>\n </defs>\n <g id=\"figure_1\">\n  <g id=\"patch_1\">\n   <path d=\"M 0 290.99625 \nL 388.0125 290.99625 \nL 388.0125 0 \nL 0 0 \nz\n\" style=\"fill:none;\"/>\n  </g>\n  <g id=\"axes_1\">\n   <g id=\"patch_2\">\n    <path d=\"M 46.0125 253.44 \nL 198.194318 253.44 \nL 198.194318 36 \nL 46.0125 36 \nz\n\" style=\"fill:#ffffff;\"/>\n   </g>\n   <g id=\"patch_3\">\n    <path clip-path=\"url(#p0997c4e72f)\" d=\"M 55.674838 253.44 \nL 69.23505 253.44 \nL 69.23505 244.007409 \nL 55.674838 244.007409 \nz\n\" style=\"fill:#1f77b4;opacity:0.8;\"/>\n   </g>\n   <g id=\"patch_4\">\n    <path clip-path=\"url(#p0997c4e72f)\" d=\"M 69.23505 253.44 \nL 82.795263 253.44 \nL 82.795263 155.580348 \nL 69.23505 155.580348 \nz\n\" style=\"fill:#1f77b4;opacity:0.8;\"/>\n   </g>\n   <g id=\"patch_5\">\n    <path clip-path=\"url(#p0997c4e72f)\" d=\"M 82.795263 253.44 \nL 96.355475 253.44 \nL 96.355475 144.116551 \nL 82.795263 144.116551 \nz\n\" style=\"fill:#1f77b4;opacity:0.8;\"/>\n   </g>\n   <g id=\"patch_6\">\n    <path clip-path=\"url(#p0997c4e72f)\" d=\"M 96.355475 253.44 \nL 109.915688 253.44 \nL 109.915688 247.193343 \nL 96.355475 247.193343 \nz\n\" style=\"fill:#1f77b4;opacity:0.8;\"/>\n   </g>\n   <g id=\"patch_7\">\n    <path clip-path=\"url(#p0997c4e72f)\" d=\"M 109.915688 253.44 \nL 123.4759 253.44 \nL 123.4759 252.953067 \nL 109.915688 252.953067 \nz\n\" style=\"fill:#1f77b4;opacity:0.8;\"/>\n   </g>\n   <g id=\"patch_8\">\n    <path clip-path=\"url(#p0997c4e72f)\" d=\"M 123.4759 253.44 \nL 137.036113 253.44 \nL 137.036113 253.412175 \nL 123.4759 253.412175 \nz\n\" style=\"fill:#1f77b4;opacity:0.8;\"/>\n   </g>\n   <g id=\"patch_9\">\n    <path clip-path=\"url(#p0997c4e72f)\" d=\"M 137.036113 253.44 \nL 150.596325 253.44 \nL 150.596325 253.426088 \nL 137.036113 253.426088 \nz\n\" style=\"fill:#1f77b4;opacity:0.8;\"/>\n   </g>\n   <g id=\"patch_10\">\n    <path clip-path=\"url(#p0997c4e72f)\" d=\"M 150.596325 253.44 \nL 164.156538 253.44 \nL 164.156538 253.44 \nL 150.596325 253.44 \nz\n\" style=\"fill:#1f77b4;opacity:0.8;\"/>\n   </g>\n   <g id=\"patch_11\">\n    <path clip-path=\"url(#p0997c4e72f)\" d=\"M 164.156538 253.44 \nL 177.71675 253.44 \nL 177.71675 253.44 \nL 164.156538 253.44 \nz\n\" style=\"fill:#1f77b4;opacity:0.8;\"/>\n   </g>\n   <g id=\"patch_12\">\n    <path clip-path=\"url(#p0997c4e72f)\" d=\"M 177.71675 253.44 \nL 191.276963 253.44 \nL 191.276963 253.426088 \nL 177.71675 253.426088 \nz\n\" style=\"fill:#1f77b4;opacity:0.8;\"/>\n   </g>\n   <g id=\"patch_13\">\n    <path clip-path=\"url(#p0997c4e72f)\" d=\"M 52.929855 253.44 \nL 61.878498 253.44 \nL 61.878498 247.847225 \nL 52.929855 247.847225 \nz\n\" style=\"fill:#ff7f0e;opacity:0.8;\"/>\n   </g>\n   <g id=\"patch_14\">\n    <path clip-path=\"url(#p0997c4e72f)\" d=\"M 61.878498 253.44 \nL 70.82714 253.44 \nL 70.82714 220.398107 \nL 61.878498 220.398107 \nz\n\" style=\"fill:#ff7f0e;opacity:0.8;\"/>\n   </g>\n   <g id=\"patch_15\">\n    <path clip-path=\"url(#p0997c4e72f)\" d=\"M 70.82714 253.44 \nL 79.775782 253.44 \nL 79.775782 148.596336 \nL 70.82714 148.596336 \nz\n\" style=\"fill:#ff7f0e;opacity:0.8;\"/>\n   </g>\n   <g id=\"patch_16\">\n    <path clip-path=\"url(#p0997c4e72f)\" d=\"M 79.775782 253.44 \nL 88.724424 253.44 \nL 88.724424 46.354286 \nL 79.775782 46.354286 \nz\n\" style=\"fill:#ff7f0e;opacity:0.8;\"/>\n   </g>\n   <g id=\"patch_17\">\n    <path clip-path=\"url(#p0997c4e72f)\" d=\"M 88.724424 253.44 \nL 97.673067 253.44 \nL 97.673067 157.87589 \nL 88.724424 157.87589 \nz\n\" style=\"fill:#ff7f0e;opacity:0.8;\"/>\n   </g>\n   <g id=\"patch_18\">\n    <path clip-path=\"url(#p0997c4e72f)\" d=\"M 97.673067 253.44 \nL 106.621709 253.44 \nL 106.621709 245.329085 \nL 97.673067 245.329085 \nz\n\" style=\"fill:#ff7f0e;opacity:0.8;\"/>\n   </g>\n   <g id=\"patch_19\">\n    <path clip-path=\"url(#p0997c4e72f)\" d=\"M 106.621709 253.44 \nL 115.570351 253.44 \nL 115.570351 252.313098 \nL 106.621709 252.313098 \nz\n\" style=\"fill:#ff7f0e;opacity:0.8;\"/>\n   </g>\n   <g id=\"patch_20\">\n    <path clip-path=\"url(#p0997c4e72f)\" d=\"M 115.570351 253.44 \nL 124.518994 253.44 \nL 124.518994 253.370438 \nL 115.570351 253.370438 \nz\n\" style=\"fill:#ff7f0e;opacity:0.8;\"/>\n   </g>\n   <g id=\"patch_21\">\n    <path clip-path=\"url(#p0997c4e72f)\" d=\"M 124.518994 253.44 \nL 133.467636 253.44 \nL 133.467636 253.412175 \nL 124.518994 253.412175 \nz\n\" style=\"fill:#ff7f0e;opacity:0.8;\"/>\n   </g>\n   <g id=\"patch_22\">\n    <path clip-path=\"url(#p0997c4e72f)\" d=\"M 133.467636 253.44 \nL 142.416278 253.44 \nL 142.416278 253.426088 \nL 133.467636 253.426088 \nz\n\" style=\"fill:#ff7f0e;opacity:0.8;\"/>\n   </g>\n   <g id=\"patch_23\">\n    <path clip-path=\"url(#p0997c4e72f)\" d=\"M 56.772831 253.44 \nL 62.756892 253.44 \nL 62.756892 253.133928 \nL 56.772831 253.133928 \nz\n\" style=\"fill:#2ca02c;opacity:0.8;\"/>\n   </g>\n   <g id=\"patch_24\">\n    <path clip-path=\"url(#p0997c4e72f)\" d=\"M 62.756892 253.44 \nL 68.740953 253.44 \nL 68.740953 251.853989 \nL 62.756892 251.853989 \nz\n\" style=\"fill:#2ca02c;opacity:0.8;\"/>\n   </g>\n   <g id=\"patch_25\">\n    <path clip-path=\"url(#p0997c4e72f)\" d=\"M 68.740953 253.44 \nL 74.725015 253.44 \nL 74.725015 248.236771 \nL 68.740953 248.236771 \nz\n\" style=\"fill:#2ca02c;opacity:0.8;\"/>\n   </g>\n   <g id=\"patch_26\">\n    <path clip-path=\"url(#p0997c4e72f)\" d=\"M 74.725015 253.44 \nL 80.709076 253.44 \nL 80.709076 244.953451 \nL 74.725015 244.953451 \nz\n\" style=\"fill:#2ca02c;opacity:0.8;\"/>\n   </g>\n   <g id=\"patch_27\">\n    <path clip-path=\"url(#p0997c4e72f)\" d=\"M 80.709076 253.44 \nL 86.693138 253.44 \nL 86.693138 245.106487 \nL 80.709076 245.106487 \nz\n\" style=\"fill:#2ca02c;opacity:0.8;\"/>\n   </g>\n   <g id=\"patch_28\">\n    <path clip-path=\"url(#p0997c4e72f)\" d=\"M 86.693138 253.44 \nL 92.677199 253.44 \nL 92.677199 250.114942 \nL 86.693138 250.114942 \nz\n\" style=\"fill:#2ca02c;opacity:0.8;\"/>\n   </g>\n   <g id=\"patch_29\">\n    <path clip-path=\"url(#p0997c4e72f)\" d=\"M 92.677199 253.44 \nL 98.66126 253.44 \nL 98.66126 252.201799 \nL 92.677199 252.201799 \nz\n\" style=\"fill:#2ca02c;opacity:0.8;\"/>\n   </g>\n   <g id=\"patch_30\">\n    <path clip-path=\"url(#p0997c4e72f)\" d=\"M 98.66126 253.44 \nL 104.645322 253.44 \nL 104.645322 253.008716 \nL 98.66126 253.008716 \nz\n\" style=\"fill:#2ca02c;opacity:0.8;\"/>\n   </g>\n   <g id=\"patch_31\">\n    <path clip-path=\"url(#p0997c4e72f)\" d=\"M 104.645322 253.44 \nL 110.629383 253.44 \nL 110.629383 253.398263 \nL 104.645322 253.398263 \nz\n\" style=\"fill:#2ca02c;opacity:0.8;\"/>\n   </g>\n   <g id=\"patch_32\">\n    <path clip-path=\"url(#p0997c4e72f)\" d=\"M 110.629383 253.44 \nL 116.613445 253.44 \nL 116.613445 253.426088 \nL 110.629383 253.426088 \nz\n\" style=\"fill:#2ca02c;opacity:0.8;\"/>\n   </g>\n   <g id=\"matplotlib.axis_1\">\n    <g id=\"xtick_1\">\n     <g id=\"line2d_1\">\n      <path clip-path=\"url(#p0997c4e72f)\" d=\"M 52.929855 253.44 \nL 52.929855 36 \n\" style=\"fill:none;stroke:#b0b0b0;stroke-linecap:square;stroke-width:0.8;\"/>\n     </g>\n     <g id=\"line2d_2\">\n      <defs>\n       <path d=\"M 0 0 \nL 0 3.5 \n\" id=\"m3b5ea5a428\" style=\"stroke:#000000;stroke-width:0.8;\"/>\n      </defs>\n      <g>\n       <use style=\"stroke:#000000;stroke-width:0.8;\" x=\"52.929855\" xlink:href=\"#m3b5ea5a428\" y=\"253.44\"/>\n      </g>\n     </g>\n     <g id=\"text_1\">\n      <!-- 0 -->\n      <defs>\n       <path d=\"M 31.78125 66.40625 \nQ 24.171875 66.40625 20.328125 58.90625 \nQ 16.5 51.421875 16.5 36.375 \nQ 16.5 21.390625 20.328125 13.890625 \nQ 24.171875 6.390625 31.78125 6.390625 \nQ 39.453125 6.390625 43.28125 13.890625 \nQ 47.125 21.390625 47.125 36.375 \nQ 47.125 51.421875 43.28125 58.90625 \nQ 39.453125 66.40625 31.78125 66.40625 \nz\nM 31.78125 74.21875 \nQ 44.046875 74.21875 50.515625 64.515625 \nQ 56.984375 54.828125 56.984375 36.375 \nQ 56.984375 17.96875 50.515625 8.265625 \nQ 44.046875 -1.421875 31.78125 -1.421875 \nQ 19.53125 -1.421875 13.0625 8.265625 \nQ 6.59375 17.96875 6.59375 36.375 \nQ 6.59375 54.828125 13.0625 64.515625 \nQ 19.53125 74.21875 31.78125 74.21875 \nz\n\" id=\"DejaVuSans-48\"/>\n      </defs>\n      <g transform=\"translate(49.748605 268.038437)scale(0.1 -0.1)\">\n       <use xlink:href=\"#DejaVuSans-48\"/>\n      </g>\n     </g>\n    </g>\n    <g id=\"xtick_2\">\n     <g id=\"line2d_3\">\n      <path clip-path=\"url(#p0997c4e72f)\" d=\"M 107.829501 253.44 \nL 107.829501 36 \n\" style=\"fill:none;stroke:#b0b0b0;stroke-linecap:square;stroke-width:0.8;\"/>\n     </g>\n     <g id=\"line2d_4\">\n      <g>\n       <use style=\"stroke:#000000;stroke-width:0.8;\" x=\"107.829501\" xlink:href=\"#m3b5ea5a428\" y=\"253.44\"/>\n      </g>\n     </g>\n     <g id=\"text_2\">\n      <!-- 100 -->\n      <defs>\n       <path d=\"M 12.40625 8.296875 \nL 28.515625 8.296875 \nL 28.515625 63.921875 \nL 10.984375 60.40625 \nL 10.984375 69.390625 \nL 28.421875 72.90625 \nL 38.28125 72.90625 \nL 38.28125 8.296875 \nL 54.390625 8.296875 \nL 54.390625 0 \nL 12.40625 0 \nz\n\" id=\"DejaVuSans-49\"/>\n      </defs>\n      <g transform=\"translate(98.285751 268.038437)scale(0.1 -0.1)\">\n       <use xlink:href=\"#DejaVuSans-49\"/>\n       <use x=\"63.623047\" xlink:href=\"#DejaVuSans-48\"/>\n       <use x=\"127.246094\" xlink:href=\"#DejaVuSans-48\"/>\n      </g>\n     </g>\n    </g>\n    <g id=\"xtick_3\">\n     <g id=\"line2d_5\">\n      <path clip-path=\"url(#p0997c4e72f)\" d=\"M 162.729147 253.44 \nL 162.729147 36 \n\" style=\"fill:none;stroke:#b0b0b0;stroke-linecap:square;stroke-width:0.8;\"/>\n     </g>\n     <g id=\"line2d_6\">\n      <g>\n       <use style=\"stroke:#000000;stroke-width:0.8;\" x=\"162.729147\" xlink:href=\"#m3b5ea5a428\" y=\"253.44\"/>\n      </g>\n     </g>\n     <g id=\"text_3\">\n      <!-- 200 -->\n      <defs>\n       <path d=\"M 19.1875 8.296875 \nL 53.609375 8.296875 \nL 53.609375 0 \nL 7.328125 0 \nL 7.328125 8.296875 \nQ 12.9375 14.109375 22.625 23.890625 \nQ 32.328125 33.6875 34.8125 36.53125 \nQ 39.546875 41.84375 41.421875 45.53125 \nQ 43.3125 49.21875 43.3125 52.78125 \nQ 43.3125 58.59375 39.234375 62.25 \nQ 35.15625 65.921875 28.609375 65.921875 \nQ 23.96875 65.921875 18.8125 64.3125 \nQ 13.671875 62.703125 7.8125 59.421875 \nL 7.8125 69.390625 \nQ 13.765625 71.78125 18.9375 73 \nQ 24.125 74.21875 28.421875 74.21875 \nQ 39.75 74.21875 46.484375 68.546875 \nQ 53.21875 62.890625 53.21875 53.421875 \nQ 53.21875 48.921875 51.53125 44.890625 \nQ 49.859375 40.875 45.40625 35.40625 \nQ 44.1875 33.984375 37.640625 27.21875 \nQ 31.109375 20.453125 19.1875 8.296875 \nz\n\" id=\"DejaVuSans-50\"/>\n      </defs>\n      <g transform=\"translate(153.185397 268.038437)scale(0.1 -0.1)\">\n       <use xlink:href=\"#DejaVuSans-50\"/>\n       <use x=\"63.623047\" xlink:href=\"#DejaVuSans-48\"/>\n       <use x=\"127.246094\" xlink:href=\"#DejaVuSans-48\"/>\n      </g>\n     </g>\n    </g>\n    <g id=\"text_4\">\n     <!-- histogram -->\n     <defs>\n      <path d=\"M 54.890625 33.015625 \nL 54.890625 0 \nL 45.90625 0 \nL 45.90625 32.71875 \nQ 45.90625 40.484375 42.875 44.328125 \nQ 39.84375 48.1875 33.796875 48.1875 \nQ 26.515625 48.1875 22.3125 43.546875 \nQ 18.109375 38.921875 18.109375 30.90625 \nL 18.109375 0 \nL 9.078125 0 \nL 9.078125 75.984375 \nL 18.109375 75.984375 \nL 18.109375 46.1875 \nQ 21.34375 51.125 25.703125 53.5625 \nQ 30.078125 56 35.796875 56 \nQ 45.21875 56 50.046875 50.171875 \nQ 54.890625 44.34375 54.890625 33.015625 \nz\n\" id=\"DejaVuSans-104\"/>\n      <path d=\"M 9.421875 54.6875 \nL 18.40625 54.6875 \nL 18.40625 0 \nL 9.421875 0 \nz\nM 9.421875 75.984375 \nL 18.40625 75.984375 \nL 18.40625 64.59375 \nL 9.421875 64.59375 \nz\n\" id=\"DejaVuSans-105\"/>\n      <path d=\"M 44.28125 53.078125 \nL 44.28125 44.578125 \nQ 40.484375 46.53125 36.375 47.5 \nQ 32.28125 48.484375 27.875 48.484375 \nQ 21.1875 48.484375 17.84375 46.4375 \nQ 14.5 44.390625 14.5 40.28125 \nQ 14.5 37.15625 16.890625 35.375 \nQ 19.28125 33.59375 26.515625 31.984375 \nL 29.59375 31.296875 \nQ 39.15625 29.25 43.1875 25.515625 \nQ 47.21875 21.78125 47.21875 15.09375 \nQ 47.21875 7.46875 41.1875 3.015625 \nQ 35.15625 -1.421875 24.609375 -1.421875 \nQ 20.21875 -1.421875 15.453125 -0.5625 \nQ 10.6875 0.296875 5.421875 2 \nL 5.421875 11.28125 \nQ 10.40625 8.6875 15.234375 7.390625 \nQ 20.0625 6.109375 24.8125 6.109375 \nQ 31.15625 6.109375 34.5625 8.28125 \nQ 37.984375 10.453125 37.984375 14.40625 \nQ 37.984375 18.0625 35.515625 20.015625 \nQ 33.0625 21.96875 24.703125 23.78125 \nL 21.578125 24.515625 \nQ 13.234375 26.265625 9.515625 29.90625 \nQ 5.8125 33.546875 5.8125 39.890625 \nQ 5.8125 47.609375 11.28125 51.796875 \nQ 16.75 56 26.8125 56 \nQ 31.78125 56 36.171875 55.265625 \nQ 40.578125 54.546875 44.28125 53.078125 \nz\n\" id=\"DejaVuSans-115\"/>\n      <path d=\"M 18.3125 70.21875 \nL 18.3125 54.6875 \nL 36.8125 54.6875 \nL 36.8125 47.703125 \nL 18.3125 47.703125 \nL 18.3125 18.015625 \nQ 18.3125 11.328125 20.140625 9.421875 \nQ 21.96875 7.515625 27.59375 7.515625 \nL 36.8125 7.515625 \nL 36.8125 0 \nL 27.59375 0 \nQ 17.1875 0 13.234375 3.875 \nQ 9.28125 7.765625 9.28125 18.015625 \nL 9.28125 47.703125 \nL 2.6875 47.703125 \nL 2.6875 54.6875 \nL 9.28125 54.6875 \nL 9.28125 70.21875 \nz\n\" id=\"DejaVuSans-116\"/>\n      <path d=\"M 30.609375 48.390625 \nQ 23.390625 48.390625 19.1875 42.75 \nQ 14.984375 37.109375 14.984375 27.296875 \nQ 14.984375 17.484375 19.15625 11.84375 \nQ 23.34375 6.203125 30.609375 6.203125 \nQ 37.796875 6.203125 41.984375 11.859375 \nQ 46.1875 17.53125 46.1875 27.296875 \nQ 46.1875 37.015625 41.984375 42.703125 \nQ 37.796875 48.390625 30.609375 48.390625 \nz\nM 30.609375 56 \nQ 42.328125 56 49.015625 48.375 \nQ 55.71875 40.765625 55.71875 27.296875 \nQ 55.71875 13.875 49.015625 6.21875 \nQ 42.328125 -1.421875 30.609375 -1.421875 \nQ 18.84375 -1.421875 12.171875 6.21875 \nQ 5.515625 13.875 5.515625 27.296875 \nQ 5.515625 40.765625 12.171875 48.375 \nQ 18.84375 56 30.609375 56 \nz\n\" id=\"DejaVuSans-111\"/>\n      <path d=\"M 45.40625 27.984375 \nQ 45.40625 37.75 41.375 43.109375 \nQ 37.359375 48.484375 30.078125 48.484375 \nQ 22.859375 48.484375 18.828125 43.109375 \nQ 14.796875 37.75 14.796875 27.984375 \nQ 14.796875 18.265625 18.828125 12.890625 \nQ 22.859375 7.515625 30.078125 7.515625 \nQ 37.359375 7.515625 41.375 12.890625 \nQ 45.40625 18.265625 45.40625 27.984375 \nz\nM 54.390625 6.78125 \nQ 54.390625 -7.171875 48.1875 -13.984375 \nQ 42 -20.796875 29.203125 -20.796875 \nQ 24.46875 -20.796875 20.265625 -20.09375 \nQ 16.0625 -19.390625 12.109375 -17.921875 \nL 12.109375 -9.1875 \nQ 16.0625 -11.328125 19.921875 -12.34375 \nQ 23.78125 -13.375 27.78125 -13.375 \nQ 36.625 -13.375 41.015625 -8.765625 \nQ 45.40625 -4.15625 45.40625 5.171875 \nL 45.40625 9.625 \nQ 42.625 4.78125 38.28125 2.390625 \nQ 33.9375 0 27.875 0 \nQ 17.828125 0 11.671875 7.65625 \nQ 5.515625 15.328125 5.515625 27.984375 \nQ 5.515625 40.671875 11.671875 48.328125 \nQ 17.828125 56 27.875 56 \nQ 33.9375 56 38.28125 53.609375 \nQ 42.625 51.21875 45.40625 46.390625 \nL 45.40625 54.6875 \nL 54.390625 54.6875 \nz\n\" id=\"DejaVuSans-103\"/>\n      <path d=\"M 41.109375 46.296875 \nQ 39.59375 47.171875 37.8125 47.578125 \nQ 36.03125 48 33.890625 48 \nQ 26.265625 48 22.1875 43.046875 \nQ 18.109375 38.09375 18.109375 28.8125 \nL 18.109375 0 \nL 9.078125 0 \nL 9.078125 54.6875 \nL 18.109375 54.6875 \nL 18.109375 46.1875 \nQ 20.953125 51.171875 25.484375 53.578125 \nQ 30.03125 56 36.53125 56 \nQ 37.453125 56 38.578125 55.875 \nQ 39.703125 55.765625 41.0625 55.515625 \nz\n\" id=\"DejaVuSans-114\"/>\n      <path d=\"M 34.28125 27.484375 \nQ 23.390625 27.484375 19.1875 25 \nQ 14.984375 22.515625 14.984375 16.5 \nQ 14.984375 11.71875 18.140625 8.90625 \nQ 21.296875 6.109375 26.703125 6.109375 \nQ 34.1875 6.109375 38.703125 11.40625 \nQ 43.21875 16.703125 43.21875 25.484375 \nL 43.21875 27.484375 \nz\nM 52.203125 31.203125 \nL 52.203125 0 \nL 43.21875 0 \nL 43.21875 8.296875 \nQ 40.140625 3.328125 35.546875 0.953125 \nQ 30.953125 -1.421875 24.3125 -1.421875 \nQ 15.921875 -1.421875 10.953125 3.296875 \nQ 6 8.015625 6 15.921875 \nQ 6 25.140625 12.171875 29.828125 \nQ 18.359375 34.515625 30.609375 34.515625 \nL 43.21875 34.515625 \nL 43.21875 35.40625 \nQ 43.21875 41.609375 39.140625 45 \nQ 35.0625 48.390625 27.6875 48.390625 \nQ 23 48.390625 18.546875 47.265625 \nQ 14.109375 46.140625 10.015625 43.890625 \nL 10.015625 52.203125 \nQ 14.9375 54.109375 19.578125 55.046875 \nQ 24.21875 56 28.609375 56 \nQ 40.484375 56 46.34375 49.84375 \nQ 52.203125 43.703125 52.203125 31.203125 \nz\n\" id=\"DejaVuSans-97\"/>\n      <path d=\"M 52 44.1875 \nQ 55.375 50.25 60.0625 53.125 \nQ 64.75 56 71.09375 56 \nQ 79.640625 56 84.28125 50.015625 \nQ 88.921875 44.046875 88.921875 33.015625 \nL 88.921875 0 \nL 79.890625 0 \nL 79.890625 32.71875 \nQ 79.890625 40.578125 77.09375 44.375 \nQ 74.3125 48.1875 68.609375 48.1875 \nQ 61.625 48.1875 57.5625 43.546875 \nQ 53.515625 38.921875 53.515625 30.90625 \nL 53.515625 0 \nL 44.484375 0 \nL 44.484375 32.71875 \nQ 44.484375 40.625 41.703125 44.40625 \nQ 38.921875 48.1875 33.109375 48.1875 \nQ 26.21875 48.1875 22.15625 43.53125 \nQ 18.109375 38.875 18.109375 30.90625 \nL 18.109375 0 \nL 9.078125 0 \nL 9.078125 54.6875 \nL 18.109375 54.6875 \nL 18.109375 46.1875 \nQ 21.1875 51.21875 25.484375 53.609375 \nQ 29.78125 56 35.6875 56 \nQ 41.65625 56 45.828125 52.96875 \nQ 50 49.953125 52 44.1875 \nz\n\" id=\"DejaVuSans-109\"/>\n     </defs>\n     <g transform=\"translate(96.757315 281.716562)scale(0.1 -0.1)\">\n      <use xlink:href=\"#DejaVuSans-104\"/>\n      <use x=\"63.378906\" xlink:href=\"#DejaVuSans-105\"/>\n      <use x=\"91.162109\" xlink:href=\"#DejaVuSans-115\"/>\n      <use x=\"143.261719\" xlink:href=\"#DejaVuSans-116\"/>\n      <use x=\"182.470703\" xlink:href=\"#DejaVuSans-111\"/>\n      <use x=\"243.652344\" xlink:href=\"#DejaVuSans-103\"/>\n      <use x=\"307.128906\" xlink:href=\"#DejaVuSans-114\"/>\n      <use x=\"348.242188\" xlink:href=\"#DejaVuSans-97\"/>\n      <use x=\"409.521484\" xlink:href=\"#DejaVuSans-109\"/>\n     </g>\n    </g>\n   </g>\n   <g id=\"matplotlib.axis_2\">\n    <g id=\"ytick_1\">\n     <g id=\"line2d_7\">\n      <path clip-path=\"url(#p0997c4e72f)\" d=\"M 46.0125 253.44 \nL 198.194318 253.44 \n\" style=\"fill:none;stroke:#b0b0b0;stroke-linecap:square;stroke-width:0.8;\"/>\n     </g>\n     <g id=\"line2d_8\">\n      <defs>\n       <path d=\"M 0 0 \nL -3.5 0 \n\" id=\"mb92b0f45a8\" style=\"stroke:#000000;stroke-width:0.8;\"/>\n      </defs>\n      <g>\n       <use style=\"stroke:#000000;stroke-width:0.8;\" x=\"46.0125\" xlink:href=\"#mb92b0f45a8\" y=\"253.44\"/>\n      </g>\n     </g>\n     <g id=\"text_5\">\n      <!-- 0 -->\n      <g transform=\"translate(32.65 257.239219)scale(0.1 -0.1)\">\n       <use xlink:href=\"#DejaVuSans-48\"/>\n      </g>\n     </g>\n    </g>\n    <g id=\"ytick_2\">\n     <g id=\"line2d_9\">\n      <path clip-path=\"url(#p0997c4e72f)\" d=\"M 46.0125 225.615248 \nL 198.194318 225.615248 \n\" style=\"fill:none;stroke:#b0b0b0;stroke-linecap:square;stroke-width:0.8;\"/>\n     </g>\n     <g id=\"line2d_10\">\n      <g>\n       <use style=\"stroke:#000000;stroke-width:0.8;\" x=\"46.0125\" xlink:href=\"#mb92b0f45a8\" y=\"225.615248\"/>\n      </g>\n     </g>\n     <g id=\"text_6\">\n      <!-- 2000 -->\n      <g transform=\"translate(13.5625 229.414467)scale(0.1 -0.1)\">\n       <use xlink:href=\"#DejaVuSans-50\"/>\n       <use x=\"63.623047\" xlink:href=\"#DejaVuSans-48\"/>\n       <use x=\"127.246094\" xlink:href=\"#DejaVuSans-48\"/>\n       <use x=\"190.869141\" xlink:href=\"#DejaVuSans-48\"/>\n      </g>\n     </g>\n    </g>\n    <g id=\"ytick_3\">\n     <g id=\"line2d_11\">\n      <path clip-path=\"url(#p0997c4e72f)\" d=\"M 46.0125 197.790497 \nL 198.194318 197.790497 \n\" style=\"fill:none;stroke:#b0b0b0;stroke-linecap:square;stroke-width:0.8;\"/>\n     </g>\n     <g id=\"line2d_12\">\n      <g>\n       <use style=\"stroke:#000000;stroke-width:0.8;\" x=\"46.0125\" xlink:href=\"#mb92b0f45a8\" y=\"197.790497\"/>\n      </g>\n     </g>\n     <g id=\"text_7\">\n      <!-- 4000 -->\n      <defs>\n       <path d=\"M 37.796875 64.3125 \nL 12.890625 25.390625 \nL 37.796875 25.390625 \nz\nM 35.203125 72.90625 \nL 47.609375 72.90625 \nL 47.609375 25.390625 \nL 58.015625 25.390625 \nL 58.015625 17.1875 \nL 47.609375 17.1875 \nL 47.609375 0 \nL 37.796875 0 \nL 37.796875 17.1875 \nL 4.890625 17.1875 \nL 4.890625 26.703125 \nz\n\" id=\"DejaVuSans-52\"/>\n      </defs>\n      <g transform=\"translate(13.5625 201.589715)scale(0.1 -0.1)\">\n       <use xlink:href=\"#DejaVuSans-52\"/>\n       <use x=\"63.623047\" xlink:href=\"#DejaVuSans-48\"/>\n       <use x=\"127.246094\" xlink:href=\"#DejaVuSans-48\"/>\n       <use x=\"190.869141\" xlink:href=\"#DejaVuSans-48\"/>\n      </g>\n     </g>\n    </g>\n    <g id=\"ytick_4\">\n     <g id=\"line2d_13\">\n      <path clip-path=\"url(#p0997c4e72f)\" d=\"M 46.0125 169.965745 \nL 198.194318 169.965745 \n\" style=\"fill:none;stroke:#b0b0b0;stroke-linecap:square;stroke-width:0.8;\"/>\n     </g>\n     <g id=\"line2d_14\">\n      <g>\n       <use style=\"stroke:#000000;stroke-width:0.8;\" x=\"46.0125\" xlink:href=\"#mb92b0f45a8\" y=\"169.965745\"/>\n      </g>\n     </g>\n     <g id=\"text_8\">\n      <!-- 6000 -->\n      <defs>\n       <path d=\"M 33.015625 40.375 \nQ 26.375 40.375 22.484375 35.828125 \nQ 18.609375 31.296875 18.609375 23.390625 \nQ 18.609375 15.53125 22.484375 10.953125 \nQ 26.375 6.390625 33.015625 6.390625 \nQ 39.65625 6.390625 43.53125 10.953125 \nQ 47.40625 15.53125 47.40625 23.390625 \nQ 47.40625 31.296875 43.53125 35.828125 \nQ 39.65625 40.375 33.015625 40.375 \nz\nM 52.59375 71.296875 \nL 52.59375 62.3125 \nQ 48.875 64.0625 45.09375 64.984375 \nQ 41.3125 65.921875 37.59375 65.921875 \nQ 27.828125 65.921875 22.671875 59.328125 \nQ 17.53125 52.734375 16.796875 39.40625 \nQ 19.671875 43.65625 24.015625 45.921875 \nQ 28.375 48.1875 33.59375 48.1875 \nQ 44.578125 48.1875 50.953125 41.515625 \nQ 57.328125 34.859375 57.328125 23.390625 \nQ 57.328125 12.15625 50.6875 5.359375 \nQ 44.046875 -1.421875 33.015625 -1.421875 \nQ 20.359375 -1.421875 13.671875 8.265625 \nQ 6.984375 17.96875 6.984375 36.375 \nQ 6.984375 53.65625 15.1875 63.9375 \nQ 23.390625 74.21875 37.203125 74.21875 \nQ 40.921875 74.21875 44.703125 73.484375 \nQ 48.484375 72.75 52.59375 71.296875 \nz\n\" id=\"DejaVuSans-54\"/>\n      </defs>\n      <g transform=\"translate(13.5625 173.764964)scale(0.1 -0.1)\">\n       <use xlink:href=\"#DejaVuSans-54\"/>\n       <use x=\"63.623047\" xlink:href=\"#DejaVuSans-48\"/>\n       <use x=\"127.246094\" xlink:href=\"#DejaVuSans-48\"/>\n       <use x=\"190.869141\" xlink:href=\"#DejaVuSans-48\"/>\n      </g>\n     </g>\n    </g>\n    <g id=\"ytick_5\">\n     <g id=\"line2d_15\">\n      <path clip-path=\"url(#p0997c4e72f)\" d=\"M 46.0125 142.140993 \nL 198.194318 142.140993 \n\" style=\"fill:none;stroke:#b0b0b0;stroke-linecap:square;stroke-width:0.8;\"/>\n     </g>\n     <g id=\"line2d_16\">\n      <g>\n       <use style=\"stroke:#000000;stroke-width:0.8;\" x=\"46.0125\" xlink:href=\"#mb92b0f45a8\" y=\"142.140993\"/>\n      </g>\n     </g>\n     <g id=\"text_9\">\n      <!-- 8000 -->\n      <defs>\n       <path d=\"M 31.78125 34.625 \nQ 24.75 34.625 20.71875 30.859375 \nQ 16.703125 27.09375 16.703125 20.515625 \nQ 16.703125 13.921875 20.71875 10.15625 \nQ 24.75 6.390625 31.78125 6.390625 \nQ 38.8125 6.390625 42.859375 10.171875 \nQ 46.921875 13.96875 46.921875 20.515625 \nQ 46.921875 27.09375 42.890625 30.859375 \nQ 38.875 34.625 31.78125 34.625 \nz\nM 21.921875 38.8125 \nQ 15.578125 40.375 12.03125 44.71875 \nQ 8.5 49.078125 8.5 55.328125 \nQ 8.5 64.0625 14.71875 69.140625 \nQ 20.953125 74.21875 31.78125 74.21875 \nQ 42.671875 74.21875 48.875 69.140625 \nQ 55.078125 64.0625 55.078125 55.328125 \nQ 55.078125 49.078125 51.53125 44.71875 \nQ 48 40.375 41.703125 38.8125 \nQ 48.828125 37.15625 52.796875 32.3125 \nQ 56.78125 27.484375 56.78125 20.515625 \nQ 56.78125 9.90625 50.3125 4.234375 \nQ 43.84375 -1.421875 31.78125 -1.421875 \nQ 19.734375 -1.421875 13.25 4.234375 \nQ 6.78125 9.90625 6.78125 20.515625 \nQ 6.78125 27.484375 10.78125 32.3125 \nQ 14.796875 37.15625 21.921875 38.8125 \nz\nM 18.3125 54.390625 \nQ 18.3125 48.734375 21.84375 45.5625 \nQ 25.390625 42.390625 31.78125 42.390625 \nQ 38.140625 42.390625 41.71875 45.5625 \nQ 45.3125 48.734375 45.3125 54.390625 \nQ 45.3125 60.0625 41.71875 63.234375 \nQ 38.140625 66.40625 31.78125 66.40625 \nQ 25.390625 66.40625 21.84375 63.234375 \nQ 18.3125 60.0625 18.3125 54.390625 \nz\n\" id=\"DejaVuSans-56\"/>\n      </defs>\n      <g transform=\"translate(13.5625 145.940212)scale(0.1 -0.1)\">\n       <use xlink:href=\"#DejaVuSans-56\"/>\n       <use x=\"63.623047\" xlink:href=\"#DejaVuSans-48\"/>\n       <use x=\"127.246094\" xlink:href=\"#DejaVuSans-48\"/>\n       <use x=\"190.869141\" xlink:href=\"#DejaVuSans-48\"/>\n      </g>\n     </g>\n    </g>\n    <g id=\"ytick_6\">\n     <g id=\"line2d_17\">\n      <path clip-path=\"url(#p0997c4e72f)\" d=\"M 46.0125 114.316242 \nL 198.194318 114.316242 \n\" style=\"fill:none;stroke:#b0b0b0;stroke-linecap:square;stroke-width:0.8;\"/>\n     </g>\n     <g id=\"line2d_18\">\n      <g>\n       <use style=\"stroke:#000000;stroke-width:0.8;\" x=\"46.0125\" xlink:href=\"#mb92b0f45a8\" y=\"114.316242\"/>\n      </g>\n     </g>\n     <g id=\"text_10\">\n      <!-- 10000 -->\n      <g transform=\"translate(7.2 118.11546)scale(0.1 -0.1)\">\n       <use xlink:href=\"#DejaVuSans-49\"/>\n       <use x=\"63.623047\" xlink:href=\"#DejaVuSans-48\"/>\n       <use x=\"127.246094\" xlink:href=\"#DejaVuSans-48\"/>\n       <use x=\"190.869141\" xlink:href=\"#DejaVuSans-48\"/>\n       <use x=\"254.492188\" xlink:href=\"#DejaVuSans-48\"/>\n      </g>\n     </g>\n    </g>\n    <g id=\"ytick_7\">\n     <g id=\"line2d_19\">\n      <path clip-path=\"url(#p0997c4e72f)\" d=\"M 46.0125 86.49149 \nL 198.194318 86.49149 \n\" style=\"fill:none;stroke:#b0b0b0;stroke-linecap:square;stroke-width:0.8;\"/>\n     </g>\n     <g id=\"line2d_20\">\n      <g>\n       <use style=\"stroke:#000000;stroke-width:0.8;\" x=\"46.0125\" xlink:href=\"#mb92b0f45a8\" y=\"86.49149\"/>\n      </g>\n     </g>\n     <g id=\"text_11\">\n      <!-- 12000 -->\n      <g transform=\"translate(7.2 90.290709)scale(0.1 -0.1)\">\n       <use xlink:href=\"#DejaVuSans-49\"/>\n       <use x=\"63.623047\" xlink:href=\"#DejaVuSans-50\"/>\n       <use x=\"127.246094\" xlink:href=\"#DejaVuSans-48\"/>\n       <use x=\"190.869141\" xlink:href=\"#DejaVuSans-48\"/>\n       <use x=\"254.492188\" xlink:href=\"#DejaVuSans-48\"/>\n      </g>\n     </g>\n    </g>\n    <g id=\"ytick_8\">\n     <g id=\"line2d_21\">\n      <path clip-path=\"url(#p0997c4e72f)\" d=\"M 46.0125 58.666738 \nL 198.194318 58.666738 \n\" style=\"fill:none;stroke:#b0b0b0;stroke-linecap:square;stroke-width:0.8;\"/>\n     </g>\n     <g id=\"line2d_22\">\n      <g>\n       <use style=\"stroke:#000000;stroke-width:0.8;\" x=\"46.0125\" xlink:href=\"#mb92b0f45a8\" y=\"58.666738\"/>\n      </g>\n     </g>\n     <g id=\"text_12\">\n      <!-- 14000 -->\n      <g transform=\"translate(7.2 62.465957)scale(0.1 -0.1)\">\n       <use xlink:href=\"#DejaVuSans-49\"/>\n       <use x=\"63.623047\" xlink:href=\"#DejaVuSans-52\"/>\n       <use x=\"127.246094\" xlink:href=\"#DejaVuSans-48\"/>\n       <use x=\"190.869141\" xlink:href=\"#DejaVuSans-48\"/>\n       <use x=\"254.492188\" xlink:href=\"#DejaVuSans-48\"/>\n      </g>\n     </g>\n    </g>\n   </g>\n   <g id=\"patch_33\">\n    <path d=\"M 46.0125 253.44 \nL 46.0125 36 \n\" style=\"fill:none;stroke:#000000;stroke-linecap:square;stroke-linejoin:miter;stroke-width:0.8;\"/>\n   </g>\n   <g id=\"patch_34\">\n    <path d=\"M 198.194318 253.44 \nL 198.194318 36 \n\" style=\"fill:none;stroke:#000000;stroke-linecap:square;stroke-linejoin:miter;stroke-width:0.8;\"/>\n   </g>\n   <g id=\"patch_35\">\n    <path d=\"M 46.0125 253.44 \nL 198.194318 253.44 \n\" style=\"fill:none;stroke:#000000;stroke-linecap:square;stroke-linejoin:miter;stroke-width:0.8;\"/>\n   </g>\n   <g id=\"patch_36\">\n    <path d=\"M 46.0125 36 \nL 198.194318 36 \n\" style=\"fill:none;stroke:#000000;stroke-linecap:square;stroke-linejoin:miter;stroke-width:0.8;\"/>\n   </g>\n   <g id=\"legend_1\">\n    <g id=\"patch_37\">\n     <path d=\"M 74.125568 88.034375 \nL 191.194318 88.034375 \nQ 193.194318 88.034375 193.194318 86.034375 \nL 193.194318 43 \nQ 193.194318 41 191.194318 41 \nL 74.125568 41 \nQ 72.125568 41 72.125568 43 \nL 72.125568 86.034375 \nQ 72.125568 88.034375 74.125568 88.034375 \nz\n\" style=\"fill:#ffffff;opacity:0.8;stroke:#cccccc;stroke-linejoin:miter;\"/>\n    </g>\n    <g id=\"patch_38\">\n     <path d=\"M 76.125568 52.598437 \nL 96.125568 52.598437 \nL 96.125568 45.598437 \nL 76.125568 45.598437 \nz\n\" style=\"fill:#1f77b4;opacity:0.8;\"/>\n    </g>\n    <g id=\"text_13\">\n     <!-- ENTERTAINMENT -->\n     <defs>\n      <path d=\"M 9.8125 72.90625 \nL 55.90625 72.90625 \nL 55.90625 64.59375 \nL 19.671875 64.59375 \nL 19.671875 43.015625 \nL 54.390625 43.015625 \nL 54.390625 34.71875 \nL 19.671875 34.71875 \nL 19.671875 8.296875 \nL 56.78125 8.296875 \nL 56.78125 0 \nL 9.8125 0 \nz\n\" id=\"DejaVuSans-69\"/>\n      <path d=\"M 9.8125 72.90625 \nL 23.09375 72.90625 \nL 55.421875 11.921875 \nL 55.421875 72.90625 \nL 64.984375 72.90625 \nL 64.984375 0 \nL 51.703125 0 \nL 19.390625 60.984375 \nL 19.390625 0 \nL 9.8125 0 \nz\n\" id=\"DejaVuSans-78\"/>\n      <path d=\"M -0.296875 72.90625 \nL 61.375 72.90625 \nL 61.375 64.59375 \nL 35.5 64.59375 \nL 35.5 0 \nL 25.59375 0 \nL 25.59375 64.59375 \nL -0.296875 64.59375 \nz\n\" id=\"DejaVuSans-84\"/>\n      <path d=\"M 44.390625 34.1875 \nQ 47.5625 33.109375 50.5625 29.59375 \nQ 53.5625 26.078125 56.59375 19.921875 \nL 66.609375 0 \nL 56 0 \nL 46.6875 18.703125 \nQ 43.0625 26.03125 39.671875 28.421875 \nQ 36.28125 30.8125 30.421875 30.8125 \nL 19.671875 30.8125 \nL 19.671875 0 \nL 9.8125 0 \nL 9.8125 72.90625 \nL 32.078125 72.90625 \nQ 44.578125 72.90625 50.734375 67.671875 \nQ 56.890625 62.453125 56.890625 51.90625 \nQ 56.890625 45.015625 53.6875 40.46875 \nQ 50.484375 35.9375 44.390625 34.1875 \nz\nM 19.671875 64.796875 \nL 19.671875 38.921875 \nL 32.078125 38.921875 \nQ 39.203125 38.921875 42.84375 42.21875 \nQ 46.484375 45.515625 46.484375 51.90625 \nQ 46.484375 58.296875 42.84375 61.546875 \nQ 39.203125 64.796875 32.078125 64.796875 \nz\n\" id=\"DejaVuSans-82\"/>\n      <path d=\"M 34.1875 63.1875 \nL 20.796875 26.90625 \nL 47.609375 26.90625 \nz\nM 28.609375 72.90625 \nL 39.796875 72.90625 \nL 67.578125 0 \nL 57.328125 0 \nL 50.6875 18.703125 \nL 17.828125 18.703125 \nL 11.1875 0 \nL 0.78125 0 \nz\n\" id=\"DejaVuSans-65\"/>\n      <path d=\"M 9.8125 72.90625 \nL 19.671875 72.90625 \nL 19.671875 0 \nL 9.8125 0 \nz\n\" id=\"DejaVuSans-73\"/>\n      <path d=\"M 9.8125 72.90625 \nL 24.515625 72.90625 \nL 43.109375 23.296875 \nL 61.8125 72.90625 \nL 76.515625 72.90625 \nL 76.515625 0 \nL 66.890625 0 \nL 66.890625 64.015625 \nL 48.09375 14.015625 \nL 38.1875 14.015625 \nL 19.390625 64.015625 \nL 19.390625 0 \nL 9.8125 0 \nz\n\" id=\"DejaVuSans-77\"/>\n     </defs>\n     <g transform=\"translate(104.125568 52.598437)scale(0.1 -0.1)\">\n      <use xlink:href=\"#DejaVuSans-69\"/>\n      <use x=\"63.183594\" xlink:href=\"#DejaVuSans-78\"/>\n      <use x=\"137.988281\" xlink:href=\"#DejaVuSans-84\"/>\n      <use x=\"199.072266\" xlink:href=\"#DejaVuSans-69\"/>\n      <use x=\"262.255859\" xlink:href=\"#DejaVuSans-82\"/>\n      <use x=\"331.628906\" xlink:href=\"#DejaVuSans-84\"/>\n      <use x=\"392.603516\" xlink:href=\"#DejaVuSans-65\"/>\n      <use x=\"461.011719\" xlink:href=\"#DejaVuSans-73\"/>\n      <use x=\"490.503906\" xlink:href=\"#DejaVuSans-78\"/>\n      <use x=\"565.308594\" xlink:href=\"#DejaVuSans-77\"/>\n      <use x=\"651.587891\" xlink:href=\"#DejaVuSans-69\"/>\n      <use x=\"714.771484\" xlink:href=\"#DejaVuSans-78\"/>\n      <use x=\"789.576172\" xlink:href=\"#DejaVuSans-84\"/>\n     </g>\n    </g>\n    <g id=\"patch_39\">\n     <path d=\"M 76.125568 67.276562 \nL 96.125568 67.276562 \nL 96.125568 60.276562 \nL 76.125568 60.276562 \nz\n\" style=\"fill:#ff7f0e;opacity:0.8;\"/>\n    </g>\n    <g id=\"text_14\">\n     <!-- POLITICS -->\n     <defs>\n      <path d=\"M 19.671875 64.796875 \nL 19.671875 37.40625 \nL 32.078125 37.40625 \nQ 38.96875 37.40625 42.71875 40.96875 \nQ 46.484375 44.53125 46.484375 51.125 \nQ 46.484375 57.671875 42.71875 61.234375 \nQ 38.96875 64.796875 32.078125 64.796875 \nz\nM 9.8125 72.90625 \nL 32.078125 72.90625 \nQ 44.34375 72.90625 50.609375 67.359375 \nQ 56.890625 61.8125 56.890625 51.125 \nQ 56.890625 40.328125 50.609375 34.8125 \nQ 44.34375 29.296875 32.078125 29.296875 \nL 19.671875 29.296875 \nL 19.671875 0 \nL 9.8125 0 \nz\n\" id=\"DejaVuSans-80\"/>\n      <path d=\"M 39.40625 66.21875 \nQ 28.65625 66.21875 22.328125 58.203125 \nQ 16.015625 50.203125 16.015625 36.375 \nQ 16.015625 22.609375 22.328125 14.59375 \nQ 28.65625 6.59375 39.40625 6.59375 \nQ 50.140625 6.59375 56.421875 14.59375 \nQ 62.703125 22.609375 62.703125 36.375 \nQ 62.703125 50.203125 56.421875 58.203125 \nQ 50.140625 66.21875 39.40625 66.21875 \nz\nM 39.40625 74.21875 \nQ 54.734375 74.21875 63.90625 63.9375 \nQ 73.09375 53.65625 73.09375 36.375 \nQ 73.09375 19.140625 63.90625 8.859375 \nQ 54.734375 -1.421875 39.40625 -1.421875 \nQ 24.03125 -1.421875 14.8125 8.828125 \nQ 5.609375 19.09375 5.609375 36.375 \nQ 5.609375 53.65625 14.8125 63.9375 \nQ 24.03125 74.21875 39.40625 74.21875 \nz\n\" id=\"DejaVuSans-79\"/>\n      <path d=\"M 9.8125 72.90625 \nL 19.671875 72.90625 \nL 19.671875 8.296875 \nL 55.171875 8.296875 \nL 55.171875 0 \nL 9.8125 0 \nz\n\" id=\"DejaVuSans-76\"/>\n      <path d=\"M 64.40625 67.28125 \nL 64.40625 56.890625 \nQ 59.421875 61.53125 53.78125 63.8125 \nQ 48.140625 66.109375 41.796875 66.109375 \nQ 29.296875 66.109375 22.65625 58.46875 \nQ 16.015625 50.828125 16.015625 36.375 \nQ 16.015625 21.96875 22.65625 14.328125 \nQ 29.296875 6.6875 41.796875 6.6875 \nQ 48.140625 6.6875 53.78125 8.984375 \nQ 59.421875 11.28125 64.40625 15.921875 \nL 64.40625 5.609375 \nQ 59.234375 2.09375 53.4375 0.328125 \nQ 47.65625 -1.421875 41.21875 -1.421875 \nQ 24.65625 -1.421875 15.125 8.703125 \nQ 5.609375 18.84375 5.609375 36.375 \nQ 5.609375 53.953125 15.125 64.078125 \nQ 24.65625 74.21875 41.21875 74.21875 \nQ 47.75 74.21875 53.53125 72.484375 \nQ 59.328125 70.75 64.40625 67.28125 \nz\n\" id=\"DejaVuSans-67\"/>\n      <path d=\"M 53.515625 70.515625 \nL 53.515625 60.890625 \nQ 47.90625 63.578125 42.921875 64.890625 \nQ 37.9375 66.21875 33.296875 66.21875 \nQ 25.25 66.21875 20.875 63.09375 \nQ 16.5 59.96875 16.5 54.203125 \nQ 16.5 49.359375 19.40625 46.890625 \nQ 22.3125 44.4375 30.421875 42.921875 \nL 36.375 41.703125 \nQ 47.40625 39.59375 52.65625 34.296875 \nQ 57.90625 29 57.90625 20.125 \nQ 57.90625 9.515625 50.796875 4.046875 \nQ 43.703125 -1.421875 29.984375 -1.421875 \nQ 24.8125 -1.421875 18.96875 -0.25 \nQ 13.140625 0.921875 6.890625 3.21875 \nL 6.890625 13.375 \nQ 12.890625 10.015625 18.65625 8.296875 \nQ 24.421875 6.59375 29.984375 6.59375 \nQ 38.421875 6.59375 43.015625 9.90625 \nQ 47.609375 13.234375 47.609375 19.390625 \nQ 47.609375 24.75 44.3125 27.78125 \nQ 41.015625 30.8125 33.5 32.328125 \nL 27.484375 33.5 \nQ 16.453125 35.6875 11.515625 40.375 \nQ 6.59375 45.0625 6.59375 53.421875 \nQ 6.59375 63.09375 13.40625 68.65625 \nQ 20.21875 74.21875 32.171875 74.21875 \nQ 37.3125 74.21875 42.625 73.28125 \nQ 47.953125 72.359375 53.515625 70.515625 \nz\n\" id=\"DejaVuSans-83\"/>\n     </defs>\n     <g transform=\"translate(104.125568 67.276562)scale(0.1 -0.1)\">\n      <use xlink:href=\"#DejaVuSans-80\"/>\n      <use x=\"60.302734\" xlink:href=\"#DejaVuSans-79\"/>\n      <use x=\"139.013672\" xlink:href=\"#DejaVuSans-76\"/>\n      <use x=\"194.726562\" xlink:href=\"#DejaVuSans-73\"/>\n      <use x=\"224.21875\" xlink:href=\"#DejaVuSans-84\"/>\n      <use x=\"285.302734\" xlink:href=\"#DejaVuSans-73\"/>\n      <use x=\"314.794922\" xlink:href=\"#DejaVuSans-67\"/>\n      <use x=\"384.619141\" xlink:href=\"#DejaVuSans-83\"/>\n     </g>\n    </g>\n    <g id=\"patch_40\">\n     <path d=\"M 76.125568 81.954687 \nL 96.125568 81.954687 \nL 96.125568 74.954687 \nL 76.125568 74.954687 \nz\n\" style=\"fill:#2ca02c;opacity:0.8;\"/>\n    </g>\n    <g id=\"text_15\">\n     <!-- TECH -->\n     <defs>\n      <path d=\"M 9.8125 72.90625 \nL 19.671875 72.90625 \nL 19.671875 43.015625 \nL 55.515625 43.015625 \nL 55.515625 72.90625 \nL 65.375 72.90625 \nL 65.375 0 \nL 55.515625 0 \nL 55.515625 34.71875 \nL 19.671875 34.71875 \nL 19.671875 0 \nL 9.8125 0 \nz\n\" id=\"DejaVuSans-72\"/>\n     </defs>\n     <g transform=\"translate(104.125568 81.954687)scale(0.1 -0.1)\">\n      <use xlink:href=\"#DejaVuSans-84\"/>\n      <use x=\"61.083984\" xlink:href=\"#DejaVuSans-69\"/>\n      <use x=\"124.267578\" xlink:href=\"#DejaVuSans-67\"/>\n      <use x=\"194.091797\" xlink:href=\"#DejaVuSans-72\"/>\n     </g>\n    </g>\n   </g>\n  </g>\n  <g id=\"axes_2\">\n   <g id=\"patch_41\">\n    <path d=\"M 228.630682 253.44 \nL 380.8125 253.44 \nL 380.8125 36 \nL 228.630682 36 \nz\n\" style=\"fill:#ffffff;\"/>\n   </g>\n   <g id=\"PolyCollection_1\">\n    <path clip-path=\"url(#pe0116ae330)\" d=\"M 238.232947 253.438055 \nL 238.232947 253.44 \nL 239.301153 253.44 \nL 240.36936 253.44 \nL 241.437566 253.44 \nL 242.505772 253.44 \nL 243.573979 253.44 \nL 244.642185 253.44 \nL 245.710391 253.44 \nL 246.778597 253.44 \nL 247.846804 253.44 \nL 248.91501 253.44 \nL 249.983216 253.44 \nL 251.051423 253.44 \nL 252.119629 253.44 \nL 253.187835 253.44 \nL 254.256041 253.44 \nL 255.324248 253.44 \nL 256.392454 253.44 \nL 257.46066 253.44 \nL 258.528866 253.44 \nL 259.597073 253.44 \nL 260.665279 253.44 \nL 261.733485 253.44 \nL 262.801692 253.44 \nL 263.869898 253.44 \nL 264.938104 253.44 \nL 266.00631 253.44 \nL 267.074517 253.44 \nL 268.142723 253.44 \nL 269.210929 253.44 \nL 270.279136 253.44 \nL 271.347342 253.44 \nL 272.415548 253.44 \nL 273.483754 253.44 \nL 274.551961 253.44 \nL 275.620167 253.44 \nL 276.688373 253.44 \nL 277.75658 253.44 \nL 278.824786 253.44 \nL 279.892992 253.44 \nL 280.961198 253.44 \nL 282.029405 253.44 \nL 283.097611 253.44 \nL 284.165817 253.44 \nL 285.234023 253.44 \nL 286.30223 253.44 \nL 287.370436 253.44 \nL 288.438642 253.44 \nL 289.506849 253.44 \nL 290.575055 253.44 \nL 291.643261 253.44 \nL 292.711467 253.44 \nL 293.779674 253.44 \nL 294.84788 253.44 \nL 295.916086 253.44 \nL 296.984293 253.44 \nL 298.052499 253.44 \nL 299.120705 253.44 \nL 300.188911 253.44 \nL 301.257118 253.44 \nL 302.325324 253.44 \nL 303.39353 253.44 \nL 304.461736 253.44 \nL 305.529943 253.44 \nL 306.598149 253.44 \nL 307.666355 253.44 \nL 308.734562 253.44 \nL 309.802768 253.44 \nL 310.870974 253.44 \nL 311.93918 253.44 \nL 313.007387 253.44 \nL 314.075593 253.44 \nL 315.143799 253.44 \nL 316.212006 253.44 \nL 317.280212 253.44 \nL 318.348418 253.44 \nL 319.416624 253.44 \nL 320.484831 253.44 \nL 321.553037 253.44 \nL 322.621243 253.44 \nL 323.68945 253.44 \nL 324.757656 253.44 \nL 325.825862 253.44 \nL 326.894068 253.44 \nL 327.962275 253.44 \nL 329.030481 253.44 \nL 330.098687 253.44 \nL 331.166893 253.44 \nL 332.2351 253.44 \nL 333.303306 253.44 \nL 334.371512 253.44 \nL 335.439719 253.44 \nL 336.507925 253.44 \nL 337.576131 253.44 \nL 338.644337 253.44 \nL 339.712544 253.44 \nL 340.78075 253.44 \nL 341.848956 253.44 \nL 342.917163 253.44 \nL 343.985369 253.44 \nL 345.053575 253.44 \nL 346.121781 253.44 \nL 347.189988 253.44 \nL 348.258194 253.44 \nL 349.3264 253.44 \nL 350.394606 253.44 \nL 351.462813 253.44 \nL 352.531019 253.44 \nL 353.599225 253.44 \nL 354.667432 253.44 \nL 355.735638 253.44 \nL 356.803844 253.44 \nL 357.87205 253.44 \nL 358.940257 253.44 \nL 360.008463 253.44 \nL 361.076669 253.44 \nL 362.144876 253.44 \nL 363.213082 253.44 \nL 364.281288 253.44 \nL 365.349494 253.44 \nL 366.417701 253.44 \nL 367.485907 253.44 \nL 368.554113 253.44 \nL 369.62232 253.44 \nL 370.690526 253.44 \nL 371.758732 253.44 \nL 372.826938 253.44 \nL 373.895145 253.44 \nL 373.895145 253.438897 \nL 373.895145 253.438897 \nL 372.826938 253.42832 \nL 371.758732 253.390887 \nL 370.690526 253.361324 \nL 369.62232 253.404077 \nL 368.554113 253.435266 \nL 367.485907 253.439698 \nL 366.417701 253.44 \nL 365.349494 253.43999 \nL 364.281288 253.439998 \nL 363.213082 253.44 \nL 362.144876 253.439988 \nL 361.076669 253.44 \nL 360.008463 253.439985 \nL 358.940257 253.44 \nL 357.87205 253.439984 \nL 356.803844 253.44 \nL 355.735638 253.439984 \nL 354.667432 253.44 \nL 353.599225 253.439984 \nL 352.531019 253.44 \nL 351.462813 253.439984 \nL 350.394606 253.44 \nL 349.3264 253.439984 \nL 348.258194 253.44 \nL 347.189988 253.439984 \nL 346.121781 253.44 \nL 345.053575 253.439984 \nL 343.985369 253.44 \nL 342.917163 253.439984 \nL 341.848956 253.44 \nL 340.78075 253.439983 \nL 339.712544 253.44 \nL 338.644337 253.439982 \nL 337.576131 253.44 \nL 336.507925 253.43998 \nL 335.439719 253.44 \nL 334.371512 253.439976 \nL 333.303306 253.44 \nL 332.2351 253.439966 \nL 331.166893 253.44 \nL 330.098687 253.439937 \nL 329.030481 253.44 \nL 327.962275 253.439592 \nL 326.894068 253.434802 \nL 325.825862 253.400255 \nL 324.757656 253.356905 \nL 323.68945 253.39528 \nL 322.621243 253.432229 \nL 321.553037 253.439243 \nL 320.484831 253.44 \nL 319.416624 253.439936 \nL 318.348418 253.44 \nL 317.280212 253.439959 \nL 316.212006 253.44 \nL 315.143799 253.43996 \nL 314.075593 253.44 \nL 313.007387 253.439939 \nL 311.93918 253.44 \nL 310.870974 253.438179 \nL 309.802768 253.422314 \nL 308.734562 253.356294 \nL 307.666355 253.287726 \nL 306.598149 253.329975 \nL 305.529943 253.309378 \nL 304.461736 253.176575 \nL 303.39353 253.105671 \nL 302.325324 253.113119 \nL 301.257118 253.138272 \nL 300.188911 253.169997 \nL 299.120705 253.080379 \nL 298.052499 252.886237 \nL 296.984293 252.754547 \nL 295.916086 252.645923 \nL 294.84788 252.618614 \nL 293.779674 252.431667 \nL 292.711467 252.212668 \nL 291.643261 251.964932 \nL 290.575055 251.870416 \nL 289.506849 251.45807 \nL 288.438642 250.348491 \nL 287.370436 249.093479 \nL 286.30223 247.952904 \nL 285.234023 246.309095 \nL 284.165817 244.428509 \nL 283.097611 241.255021 \nL 282.029405 237.302859 \nL 280.961198 232.958293 \nL 279.892992 225.934416 \nL 278.824786 216.190938 \nL 277.75658 204.449112 \nL 276.688373 191.899234 \nL 275.620167 175.15718 \nL 274.551961 152.809412 \nL 273.483754 133.462502 \nL 272.415548 115.252792 \nL 271.347342 94.318065 \nL 270.279136 76.36683 \nL 269.210929 59.938007 \nL 268.142723 46.354286 \nL 267.074517 48.272594 \nL 266.00631 66.943117 \nL 264.938104 90.723795 \nL 263.869898 110.028571 \nL 262.801692 128.637021 \nL 261.733485 145.47657 \nL 260.665279 158.852366 \nL 259.597073 170.546905 \nL 258.528866 182.771426 \nL 257.46066 194.939281 \nL 256.392454 204.035385 \nL 255.324248 211.689743 \nL 254.256041 219.141603 \nL 253.187835 225.335027 \nL 252.119629 231.439813 \nL 251.051423 236.268765 \nL 249.983216 240.108034 \nL 248.91501 243.662512 \nL 247.846804 245.998161 \nL 246.778597 247.829618 \nL 245.710391 249.275932 \nL 244.642185 250.526364 \nL 243.573979 251.696521 \nL 242.505772 252.57801 \nL 241.437566 253.037315 \nL 240.36936 253.305213 \nL 239.301153 253.41907 \nL 238.232947 253.438055 \nz\n\" style=\"fill:#1f77b4;fill-opacity:0.25;\"/>\n   </g>\n   <g id=\"PolyCollection_2\">\n    <path clip-path=\"url(#pe0116ae330)\" d=\"M 235.548037 253.439531 \nL 235.548037 253.44 \nL 236.270153 253.44 \nL 236.992268 253.44 \nL 237.714383 253.44 \nL 238.436499 253.44 \nL 239.158614 253.44 \nL 239.880729 253.44 \nL 240.602845 253.44 \nL 241.32496 253.44 \nL 242.047076 253.44 \nL 242.769191 253.44 \nL 243.491306 253.44 \nL 244.213422 253.44 \nL 244.935537 253.44 \nL 245.657652 253.44 \nL 246.379768 253.44 \nL 247.101883 253.44 \nL 247.823998 253.44 \nL 248.546114 253.44 \nL 249.268229 253.44 \nL 249.990345 253.44 \nL 250.71246 253.44 \nL 251.434575 253.44 \nL 252.156691 253.44 \nL 252.878806 253.44 \nL 253.600921 253.44 \nL 254.323037 253.44 \nL 255.045152 253.44 \nL 255.767268 253.44 \nL 256.489383 253.44 \nL 257.211498 253.44 \nL 257.933614 253.44 \nL 258.655729 253.44 \nL 259.377844 253.44 \nL 260.09996 253.44 \nL 260.822075 253.44 \nL 261.54419 253.44 \nL 262.266306 253.44 \nL 262.988421 253.44 \nL 263.710537 253.44 \nL 264.432652 253.44 \nL 265.154767 253.44 \nL 265.876883 253.44 \nL 266.598998 253.44 \nL 267.321113 253.44 \nL 268.043229 253.44 \nL 268.765344 253.44 \nL 269.48746 253.44 \nL 270.209575 253.44 \nL 270.93169 253.44 \nL 271.653806 253.44 \nL 272.375921 253.44 \nL 273.098036 253.44 \nL 273.820152 253.44 \nL 274.542267 253.44 \nL 275.264382 253.44 \nL 275.986498 253.44 \nL 276.708613 253.44 \nL 277.430729 253.44 \nL 278.152844 253.44 \nL 278.874959 253.44 \nL 279.597075 253.44 \nL 280.31919 253.44 \nL 281.041305 253.44 \nL 281.763421 253.44 \nL 282.485536 253.44 \nL 283.207652 253.44 \nL 283.929767 253.44 \nL 284.651882 253.44 \nL 285.373998 253.44 \nL 286.096113 253.44 \nL 286.818228 253.44 \nL 287.540344 253.44 \nL 288.262459 253.44 \nL 288.984574 253.44 \nL 289.70669 253.44 \nL 290.428805 253.44 \nL 291.150921 253.44 \nL 291.873036 253.44 \nL 292.595151 253.44 \nL 293.317267 253.44 \nL 294.039382 253.44 \nL 294.761497 253.44 \nL 295.483613 253.44 \nL 296.205728 253.44 \nL 296.927844 253.44 \nL 297.649959 253.44 \nL 298.372074 253.44 \nL 299.09419 253.44 \nL 299.816305 253.44 \nL 300.53842 253.44 \nL 301.260536 253.44 \nL 301.982651 253.44 \nL 302.704766 253.44 \nL 303.426882 253.44 \nL 304.148997 253.44 \nL 304.871113 253.44 \nL 305.593228 253.44 \nL 306.315343 253.44 \nL 307.037459 253.44 \nL 307.759574 253.44 \nL 308.481689 253.44 \nL 309.203805 253.44 \nL 309.92592 253.44 \nL 310.648036 253.44 \nL 311.370151 253.44 \nL 312.092266 253.44 \nL 312.814382 253.44 \nL 313.536497 253.44 \nL 314.258612 253.44 \nL 314.980728 253.44 \nL 315.702843 253.44 \nL 316.424958 253.44 \nL 317.147074 253.44 \nL 317.869189 253.44 \nL 318.591305 253.44 \nL 319.31342 253.44 \nL 320.035535 253.44 \nL 320.757651 253.44 \nL 321.479766 253.44 \nL 322.201881 253.44 \nL 322.923997 253.44 \nL 323.646112 253.44 \nL 324.368228 253.44 \nL 325.090343 253.44 \nL 325.812458 253.44 \nL 326.534574 253.44 \nL 327.256689 253.44 \nL 327.256689 253.439517 \nL 327.256689 253.439517 \nL 326.534574 253.43727 \nL 325.812458 253.429459 \nL 325.090343 253.415181 \nL 324.368228 253.404225 \nL 323.646112 253.408195 \nL 322.923997 253.42228 \nL 322.201881 253.433739 \nL 321.479766 253.438585 \nL 320.757651 253.439799 \nL 320.035535 253.43998 \nL 319.31342 253.44 \nL 318.591305 253.439999 \nL 317.869189 253.44 \nL 317.147074 253.439999 \nL 316.424958 253.44 \nL 315.702843 253.44 \nL 314.980728 253.44 \nL 314.258612 253.439998 \nL 313.536497 253.439976 \nL 312.814382 253.439747 \nL 312.092266 253.438299 \nL 311.370151 253.432779 \nL 310.648036 253.42043 \nL 309.92592 253.405286 \nL 309.203805 253.39637 \nL 308.481689 253.392244 \nL 307.759574 253.383403 \nL 307.037459 253.373999 \nL 306.315343 253.379278 \nL 305.593228 253.399337 \nL 304.871113 253.412476 \nL 304.148997 253.401336 \nL 303.426882 253.371239 \nL 302.704766 253.345229 \nL 301.982651 253.347426 \nL 301.260536 253.374805 \nL 300.53842 253.387604 \nL 299.816305 253.348609 \nL 299.09419 253.260457 \nL 298.372074 253.155623 \nL 297.649959 253.054511 \nL 296.927844 252.972203 \nL 296.205728 252.923753 \nL 295.483613 252.877769 \nL 294.761497 252.809772 \nL 294.039382 252.734489 \nL 293.317267 252.622212 \nL 292.595151 252.429934 \nL 291.873036 252.192515 \nL 291.150921 252.013602 \nL 290.428805 251.988021 \nL 289.70669 252.05008 \nL 288.984574 251.95503 \nL 288.262459 251.566128 \nL 287.540344 250.989241 \nL 286.818228 250.287885 \nL 286.096113 249.295916 \nL 285.373998 247.816494 \nL 284.651882 245.830339 \nL 283.929767 243.501428 \nL 283.207652 241.036093 \nL 282.485536 238.246415 \nL 281.763421 234.42872 \nL 281.041305 228.99854 \nL 280.31919 221.899182 \nL 279.597075 213.616937 \nL 278.874959 204.484266 \nL 278.152844 194.063159 \nL 277.430729 182.335447 \nL 276.708613 169.870661 \nL 275.986498 157.207455 \nL 275.264382 144.919417 \nL 274.542267 132.810577 \nL 273.820152 121.576471 \nL 273.098036 112.818993 \nL 272.375921 105.684552 \nL 271.653806 99.26175 \nL 270.93169 93.832078 \nL 270.209575 88.853634 \nL 269.48746 84.504276 \nL 268.765344 81.752914 \nL 268.043229 82.204132 \nL 267.321113 86.679404 \nL 266.598998 92.936455 \nL 265.876883 100.146668 \nL 265.154767 109.206605 \nL 264.432652 119.032659 \nL 263.710537 128.830259 \nL 262.988421 138.340433 \nL 262.266306 147.102908 \nL 261.54419 154.812464 \nL 260.822075 160.824503 \nL 260.09996 166.049503 \nL 259.377844 172.05962 \nL 258.655729 178.827722 \nL 257.933614 185.877639 \nL 257.211498 192.779638 \nL 256.489383 199.428997 \nL 255.767268 205.754696 \nL 255.045152 211.047805 \nL 254.323037 215.199776 \nL 253.600921 218.666015 \nL 252.878806 221.625057 \nL 252.156691 224.294141 \nL 251.434575 226.970708 \nL 250.71246 229.848572 \nL 249.990345 232.712729 \nL 249.268229 235.105219 \nL 248.546114 237.015014 \nL 247.823998 238.638962 \nL 247.101883 239.858274 \nL 246.379768 240.738109 \nL 245.657652 242.132724 \nL 244.935537 244.80219 \nL 244.213422 248.048972 \nL 243.491306 250.572876 \nL 242.769191 251.981386 \nL 242.047076 252.650758 \nL 241.32496 252.993165 \nL 240.602845 253.202833 \nL 239.880729 253.32641 \nL 239.158614 253.379165 \nL 238.436499 253.398214 \nL 237.714383 253.414336 \nL 236.992268 253.4294 \nL 236.270153 253.437252 \nL 235.548037 253.439531 \nz\n\" style=\"fill:#ff7f0e;fill-opacity:0.25;\"/>\n   </g>\n   <g id=\"PolyCollection_3\">\n    <path clip-path=\"url(#pe0116ae330)\" d=\"M 237.485871 253.433602 \nL 237.485871 253.44 \nL 238.012204 253.44 \nL 238.538537 253.44 \nL 239.06487 253.44 \nL 239.591203 253.44 \nL 240.117537 253.44 \nL 240.64387 253.44 \nL 241.170203 253.44 \nL 241.696536 253.44 \nL 242.22287 253.44 \nL 242.749203 253.44 \nL 243.275536 253.44 \nL 243.801869 253.44 \nL 244.328202 253.44 \nL 244.854536 253.44 \nL 245.380869 253.44 \nL 245.907202 253.44 \nL 246.433535 253.44 \nL 246.959869 253.44 \nL 247.486202 253.44 \nL 248.012535 253.44 \nL 248.538868 253.44 \nL 249.065201 253.44 \nL 249.591535 253.44 \nL 250.117868 253.44 \nL 250.644201 253.44 \nL 251.170534 253.44 \nL 251.696867 253.44 \nL 252.223201 253.44 \nL 252.749534 253.44 \nL 253.275867 253.44 \nL 253.8022 253.44 \nL 254.328534 253.44 \nL 254.854867 253.44 \nL 255.3812 253.44 \nL 255.907533 253.44 \nL 256.433866 253.44 \nL 256.9602 253.44 \nL 257.486533 253.44 \nL 258.012866 253.44 \nL 258.539199 253.44 \nL 259.065533 253.44 \nL 259.591866 253.44 \nL 260.118199 253.44 \nL 260.644532 253.44 \nL 261.170865 253.44 \nL 261.697199 253.44 \nL 262.223532 253.44 \nL 262.749865 253.44 \nL 263.276198 253.44 \nL 263.802532 253.44 \nL 264.328865 253.44 \nL 264.855198 253.44 \nL 265.381531 253.44 \nL 265.907864 253.44 \nL 266.434198 253.44 \nL 266.960531 253.44 \nL 267.486864 253.44 \nL 268.013197 253.44 \nL 268.539531 253.44 \nL 269.065864 253.44 \nL 269.592197 253.44 \nL 270.11853 253.44 \nL 270.644863 253.44 \nL 271.171197 253.44 \nL 271.69753 253.44 \nL 272.223863 253.44 \nL 272.750196 253.44 \nL 273.276529 253.44 \nL 273.802863 253.44 \nL 274.329196 253.44 \nL 274.855529 253.44 \nL 275.381862 253.44 \nL 275.908196 253.44 \nL 276.434529 253.44 \nL 276.960862 253.44 \nL 277.487195 253.44 \nL 278.013528 253.44 \nL 278.539862 253.44 \nL 279.066195 253.44 \nL 279.592528 253.44 \nL 280.118861 253.44 \nL 280.645195 253.44 \nL 281.171528 253.44 \nL 281.697861 253.44 \nL 282.224194 253.44 \nL 282.750527 253.44 \nL 283.276861 253.44 \nL 283.803194 253.44 \nL 284.329527 253.44 \nL 284.85586 253.44 \nL 285.382194 253.44 \nL 285.908527 253.44 \nL 286.43486 253.44 \nL 286.961193 253.44 \nL 287.487526 253.44 \nL 288.01386 253.44 \nL 288.540193 253.44 \nL 289.066526 253.44 \nL 289.592859 253.44 \nL 290.119193 253.44 \nL 290.645526 253.44 \nL 291.171859 253.44 \nL 291.698192 253.44 \nL 292.224525 253.44 \nL 292.750859 253.44 \nL 293.277192 253.44 \nL 293.803525 253.44 \nL 294.329858 253.44 \nL 294.856191 253.44 \nL 295.382525 253.44 \nL 295.908858 253.44 \nL 296.435191 253.44 \nL 296.961524 253.44 \nL 297.487858 253.44 \nL 298.014191 253.44 \nL 298.540524 253.44 \nL 299.066857 253.44 \nL 299.59319 253.44 \nL 300.119524 253.44 \nL 300.645857 253.44 \nL 301.17219 253.44 \nL 301.698523 253.44 \nL 302.224857 253.44 \nL 302.75119 253.44 \nL 303.277523 253.44 \nL 303.803856 253.44 \nL 304.330189 253.44 \nL 304.330189 253.433996 \nL 304.330189 253.433996 \nL 303.803856 253.428673 \nL 303.277523 253.415524 \nL 302.75119 253.390657 \nL 302.224857 253.350118 \nL 301.698523 253.292675 \nL 301.17219 253.222819 \nL 300.645857 253.152059 \nL 300.119524 253.09664 \nL 299.59319 253.071705 \nL 299.066857 253.084622 \nL 298.540524 253.131479 \nL 298.014191 253.198984 \nL 297.487858 253.270525 \nL 296.961524 253.332618 \nL 296.435191 253.378328 \nL 295.908858 253.406766 \nL 295.382525 253.420019 \nL 294.856191 253.419571 \nL 294.329858 253.403589 \nL 293.803525 253.365744 \nL 293.277192 253.295975 \nL 292.750859 253.183591 \nL 292.224525 253.022361 \nL 291.698192 252.815487 \nL 291.171859 252.576798 \nL 290.645526 252.325006 \nL 290.119193 252.071673 \nL 289.592859 251.808666 \nL 289.066526 251.503169 \nL 288.540193 251.10467 \nL 288.01386 250.560799 \nL 287.487526 249.833712 \nL 286.961193 248.910561 \nL 286.43486 247.807808 \nL 285.908527 246.572346 \nL 285.382194 245.278942 \nL 284.85586 244.018537 \nL 284.329527 242.874301 \nL 283.803194 241.892482 \nL 283.276861 241.062685 \nL 282.750527 240.317393 \nL 282.224194 239.547232 \nL 281.697861 238.621196 \nL 281.171528 237.406181 \nL 280.645195 235.788449 \nL 280.118861 233.698174 \nL 279.592528 231.128383 \nL 279.066195 228.134795 \nL 278.539862 224.811948 \nL 278.013528 221.257708 \nL 277.487195 217.548642 \nL 276.960862 213.742539 \nL 276.434529 209.902643 \nL 275.908196 206.114712 \nL 275.381862 202.464144 \nL 274.855529 198.967677 \nL 274.329196 195.497355 \nL 273.802863 191.756184 \nL 273.276529 187.33907 \nL 272.750196 181.855023 \nL 272.223863 175.046235 \nL 271.69753 166.851425 \nL 271.171197 157.409297 \nL 270.644863 147.03256 \nL 270.11853 136.172474 \nL 269.592197 125.361425 \nL 269.065864 115.117905 \nL 268.539531 105.840864 \nL 268.013197 97.762209 \nL 267.486864 91.004807 \nL 266.960531 85.707645 \nL 266.434198 82.105041 \nL 265.907864 80.462638 \nL 265.381531 80.881052 \nL 264.855198 83.096569 \nL 264.328865 86.441351 \nL 263.802532 90.03882 \nL 263.276198 93.156088 \nL 262.749865 95.520211 \nL 262.223532 97.41332 \nL 261.697199 99.491112 \nL 261.170865 102.429017 \nL 260.644532 106.584502 \nL 260.118199 111.834705 \nL 259.591866 117.649852 \nL 259.065533 123.360486 \nL 258.539199 128.502308 \nL 258.012866 133.081674 \nL 257.486533 137.616772 \nL 256.9602 142.902007 \nL 256.433866 149.597569 \nL 255.907533 157.868847 \nL 255.3812 167.286065 \nL 254.854867 177.032959 \nL 254.328534 186.279071 \nL 253.8022 194.489001 \nL 253.275867 201.521144 \nL 252.749534 207.524444 \nL 252.223201 212.750075 \nL 251.696867 217.399071 \nL 251.170534 221.56233 \nL 250.644201 225.243333 \nL 250.117868 228.422392 \nL 249.591535 231.119967 \nL 249.065201 233.428944 \nL 248.538868 235.503122 \nL 248.012535 237.508863 \nL 247.486202 239.563972 \nL 246.959869 241.694606 \nL 246.433535 243.832152 \nL 245.907202 245.850745 \nL 245.380869 247.624374 \nL 244.854536 249.074382 \nL 244.328202 250.187982 \nL 243.801869 251.007353 \nL 243.275536 251.602838 \nL 242.749203 252.045971 \nL 242.22287 252.391896 \nL 241.696536 252.673436 \nL 241.170203 252.904441 \nL 240.64387 253.088013 \nL 240.117537 253.224934 \nL 239.591203 253.318892 \nL 239.06487 253.377516 \nL 238.538537 253.410501 \nL 238.012204 253.426964 \nL 237.485871 253.433602 \nz\n\" style=\"fill:#2ca02c;fill-opacity:0.25;\"/>\n   </g>\n   <g id=\"matplotlib.axis_3\">\n    <g id=\"xtick_4\">\n     <g id=\"line2d_23\">\n      <path clip-path=\"url(#pe0116ae330)\" d=\"M 238.637956 253.44 \nL 238.637956 36 \n\" style=\"fill:none;stroke:#b0b0b0;stroke-linecap:square;stroke-width:0.8;\"/>\n     </g>\n     <g id=\"line2d_24\">\n      <g>\n       <use style=\"stroke:#000000;stroke-width:0.8;\" x=\"238.637956\" xlink:href=\"#m3b5ea5a428\" y=\"253.44\"/>\n      </g>\n     </g>\n     <g id=\"text_16\">\n      <!-- 0 -->\n      <g transform=\"translate(235.456706 268.038437)scale(0.1 -0.1)\">\n       <use xlink:href=\"#DejaVuSans-48\"/>\n      </g>\n     </g>\n    </g>\n    <g id=\"xtick_5\">\n     <g id=\"line2d_25\">\n      <path clip-path=\"url(#pe0116ae330)\" d=\"M 291.109621 253.44 \nL 291.109621 36 \n\" style=\"fill:none;stroke:#b0b0b0;stroke-linecap:square;stroke-width:0.8;\"/>\n     </g>\n     <g id=\"line2d_26\">\n      <g>\n       <use style=\"stroke:#000000;stroke-width:0.8;\" x=\"291.109621\" xlink:href=\"#m3b5ea5a428\" y=\"253.44\"/>\n      </g>\n     </g>\n     <g id=\"text_17\">\n      <!-- 100 -->\n      <g transform=\"translate(281.565871 268.038437)scale(0.1 -0.1)\">\n       <use xlink:href=\"#DejaVuSans-49\"/>\n       <use x=\"63.623047\" xlink:href=\"#DejaVuSans-48\"/>\n       <use x=\"127.246094\" xlink:href=\"#DejaVuSans-48\"/>\n      </g>\n     </g>\n    </g>\n    <g id=\"xtick_6\">\n     <g id=\"line2d_27\">\n      <path clip-path=\"url(#pe0116ae330)\" d=\"M 343.581287 253.44 \nL 343.581287 36 \n\" style=\"fill:none;stroke:#b0b0b0;stroke-linecap:square;stroke-width:0.8;\"/>\n     </g>\n     <g id=\"line2d_28\">\n      <g>\n       <use style=\"stroke:#000000;stroke-width:0.8;\" x=\"343.581287\" xlink:href=\"#m3b5ea5a428\" y=\"253.44\"/>\n      </g>\n     </g>\n     <g id=\"text_18\">\n      <!-- 200 -->\n      <g transform=\"translate(334.037537 268.038437)scale(0.1 -0.1)\">\n       <use xlink:href=\"#DejaVuSans-50\"/>\n       <use x=\"63.623047\" xlink:href=\"#DejaVuSans-48\"/>\n       <use x=\"127.246094\" xlink:href=\"#DejaVuSans-48\"/>\n      </g>\n     </g>\n    </g>\n    <g id=\"text_19\">\n     <!-- density -->\n     <defs>\n      <path d=\"M 45.40625 46.390625 \nL 45.40625 75.984375 \nL 54.390625 75.984375 \nL 54.390625 0 \nL 45.40625 0 \nL 45.40625 8.203125 \nQ 42.578125 3.328125 38.25 0.953125 \nQ 33.9375 -1.421875 27.875 -1.421875 \nQ 17.96875 -1.421875 11.734375 6.484375 \nQ 5.515625 14.40625 5.515625 27.296875 \nQ 5.515625 40.1875 11.734375 48.09375 \nQ 17.96875 56 27.875 56 \nQ 33.9375 56 38.25 53.625 \nQ 42.578125 51.265625 45.40625 46.390625 \nz\nM 14.796875 27.296875 \nQ 14.796875 17.390625 18.875 11.75 \nQ 22.953125 6.109375 30.078125 6.109375 \nQ 37.203125 6.109375 41.296875 11.75 \nQ 45.40625 17.390625 45.40625 27.296875 \nQ 45.40625 37.203125 41.296875 42.84375 \nQ 37.203125 48.484375 30.078125 48.484375 \nQ 22.953125 48.484375 18.875 42.84375 \nQ 14.796875 37.203125 14.796875 27.296875 \nz\n\" id=\"DejaVuSans-100\"/>\n      <path d=\"M 56.203125 29.59375 \nL 56.203125 25.203125 \nL 14.890625 25.203125 \nQ 15.484375 15.921875 20.484375 11.0625 \nQ 25.484375 6.203125 34.421875 6.203125 \nQ 39.59375 6.203125 44.453125 7.46875 \nQ 49.3125 8.734375 54.109375 11.28125 \nL 54.109375 2.78125 \nQ 49.265625 0.734375 44.1875 -0.34375 \nQ 39.109375 -1.421875 33.890625 -1.421875 \nQ 20.796875 -1.421875 13.15625 6.1875 \nQ 5.515625 13.8125 5.515625 26.8125 \nQ 5.515625 40.234375 12.765625 48.109375 \nQ 20.015625 56 32.328125 56 \nQ 43.359375 56 49.78125 48.890625 \nQ 56.203125 41.796875 56.203125 29.59375 \nz\nM 47.21875 32.234375 \nQ 47.125 39.59375 43.09375 43.984375 \nQ 39.0625 48.390625 32.421875 48.390625 \nQ 24.90625 48.390625 20.390625 44.140625 \nQ 15.875 39.890625 15.1875 32.171875 \nz\n\" id=\"DejaVuSans-101\"/>\n      <path d=\"M 54.890625 33.015625 \nL 54.890625 0 \nL 45.90625 0 \nL 45.90625 32.71875 \nQ 45.90625 40.484375 42.875 44.328125 \nQ 39.84375 48.1875 33.796875 48.1875 \nQ 26.515625 48.1875 22.3125 43.546875 \nQ 18.109375 38.921875 18.109375 30.90625 \nL 18.109375 0 \nL 9.078125 0 \nL 9.078125 54.6875 \nL 18.109375 54.6875 \nL 18.109375 46.1875 \nQ 21.34375 51.125 25.703125 53.5625 \nQ 30.078125 56 35.796875 56 \nQ 45.21875 56 50.046875 50.171875 \nQ 54.890625 44.34375 54.890625 33.015625 \nz\n\" id=\"DejaVuSans-110\"/>\n      <path d=\"M 32.171875 -5.078125 \nQ 28.375 -14.84375 24.75 -17.8125 \nQ 21.140625 -20.796875 15.09375 -20.796875 \nL 7.90625 -20.796875 \nL 7.90625 -13.28125 \nL 13.1875 -13.28125 \nQ 16.890625 -13.28125 18.9375 -11.515625 \nQ 21 -9.765625 23.484375 -3.21875 \nL 25.09375 0.875 \nL 2.984375 54.6875 \nL 12.5 54.6875 \nL 29.59375 11.921875 \nL 46.6875 54.6875 \nL 56.203125 54.6875 \nz\n\" id=\"DejaVuSans-121\"/>\n     </defs>\n     <g transform=\"translate(286.388778 281.716562)scale(0.1 -0.1)\">\n      <use xlink:href=\"#DejaVuSans-100\"/>\n      <use x=\"63.476562\" xlink:href=\"#DejaVuSans-101\"/>\n      <use x=\"125\" xlink:href=\"#DejaVuSans-110\"/>\n      <use x=\"188.378906\" xlink:href=\"#DejaVuSans-115\"/>\n      <use x=\"240.478516\" xlink:href=\"#DejaVuSans-105\"/>\n      <use x=\"268.261719\" xlink:href=\"#DejaVuSans-116\"/>\n      <use x=\"307.470703\" xlink:href=\"#DejaVuSans-121\"/>\n     </g>\n    </g>\n   </g>\n   <g id=\"matplotlib.axis_4\">\n    <g id=\"ytick_9\">\n     <g id=\"line2d_29\">\n      <path clip-path=\"url(#pe0116ae330)\" d=\"M 228.630682 253.44 \nL 380.8125 253.44 \n\" style=\"fill:none;stroke:#b0b0b0;stroke-linecap:square;stroke-width:0.8;\"/>\n     </g>\n     <g id=\"line2d_30\">\n      <g>\n       <use style=\"stroke:#000000;stroke-width:0.8;\" x=\"228.630682\" xlink:href=\"#mb92b0f45a8\" y=\"253.44\"/>\n      </g>\n     </g>\n     <g id=\"text_20\">\n      <!-- 0.000 -->\n      <defs>\n       <path d=\"M 10.6875 12.40625 \nL 21 12.40625 \nL 21 0 \nL 10.6875 0 \nz\n\" id=\"DejaVuSans-46\"/>\n      </defs>\n      <g transform=\"translate(193.002557 257.239219)scale(0.1 -0.1)\">\n       <use xlink:href=\"#DejaVuSans-48\"/>\n       <use x=\"63.623047\" xlink:href=\"#DejaVuSans-46\"/>\n       <use x=\"95.410156\" xlink:href=\"#DejaVuSans-48\"/>\n       <use x=\"159.033203\" xlink:href=\"#DejaVuSans-48\"/>\n       <use x=\"222.65625\" xlink:href=\"#DejaVuSans-48\"/>\n      </g>\n     </g>\n    </g>\n    <g id=\"ytick_10\">\n     <g id=\"line2d_31\">\n      <path clip-path=\"url(#pe0116ae330)\" d=\"M 228.630682 223.756392 \nL 380.8125 223.756392 \n\" style=\"fill:none;stroke:#b0b0b0;stroke-linecap:square;stroke-width:0.8;\"/>\n     </g>\n     <g id=\"line2d_32\">\n      <g>\n       <use style=\"stroke:#000000;stroke-width:0.8;\" x=\"228.630682\" xlink:href=\"#mb92b0f45a8\" y=\"223.756392\"/>\n      </g>\n     </g>\n     <g id=\"text_21\">\n      <!-- 0.005 -->\n      <defs>\n       <path d=\"M 10.796875 72.90625 \nL 49.515625 72.90625 \nL 49.515625 64.59375 \nL 19.828125 64.59375 \nL 19.828125 46.734375 \nQ 21.96875 47.46875 24.109375 47.828125 \nQ 26.265625 48.1875 28.421875 48.1875 \nQ 40.625 48.1875 47.75 41.5 \nQ 54.890625 34.8125 54.890625 23.390625 \nQ 54.890625 11.625 47.5625 5.09375 \nQ 40.234375 -1.421875 26.90625 -1.421875 \nQ 22.3125 -1.421875 17.546875 -0.640625 \nQ 12.796875 0.140625 7.71875 1.703125 \nL 7.71875 11.625 \nQ 12.109375 9.234375 16.796875 8.0625 \nQ 21.484375 6.890625 26.703125 6.890625 \nQ 35.15625 6.890625 40.078125 11.328125 \nQ 45.015625 15.765625 45.015625 23.390625 \nQ 45.015625 31 40.078125 35.4375 \nQ 35.15625 39.890625 26.703125 39.890625 \nQ 22.75 39.890625 18.8125 39.015625 \nQ 14.890625 38.140625 10.796875 36.28125 \nz\n\" id=\"DejaVuSans-53\"/>\n      </defs>\n      <g transform=\"translate(193.002557 227.555611)scale(0.1 -0.1)\">\n       <use xlink:href=\"#DejaVuSans-48\"/>\n       <use x=\"63.623047\" xlink:href=\"#DejaVuSans-46\"/>\n       <use x=\"95.410156\" xlink:href=\"#DejaVuSans-48\"/>\n       <use x=\"159.033203\" xlink:href=\"#DejaVuSans-48\"/>\n       <use x=\"222.65625\" xlink:href=\"#DejaVuSans-53\"/>\n      </g>\n     </g>\n    </g>\n    <g id=\"ytick_11\">\n     <g id=\"line2d_33\">\n      <path clip-path=\"url(#pe0116ae330)\" d=\"M 228.630682 194.072784 \nL 380.8125 194.072784 \n\" style=\"fill:none;stroke:#b0b0b0;stroke-linecap:square;stroke-width:0.8;\"/>\n     </g>\n     <g id=\"line2d_34\">\n      <g>\n       <use style=\"stroke:#000000;stroke-width:0.8;\" x=\"228.630682\" xlink:href=\"#mb92b0f45a8\" y=\"194.072784\"/>\n      </g>\n     </g>\n     <g id=\"text_22\">\n      <!-- 0.010 -->\n      <g transform=\"translate(193.002557 197.872003)scale(0.1 -0.1)\">\n       <use xlink:href=\"#DejaVuSans-48\"/>\n       <use x=\"63.623047\" xlink:href=\"#DejaVuSans-46\"/>\n       <use x=\"95.410156\" xlink:href=\"#DejaVuSans-48\"/>\n       <use x=\"159.033203\" xlink:href=\"#DejaVuSans-49\"/>\n       <use x=\"222.65625\" xlink:href=\"#DejaVuSans-48\"/>\n      </g>\n     </g>\n    </g>\n    <g id=\"ytick_12\">\n     <g id=\"line2d_35\">\n      <path clip-path=\"url(#pe0116ae330)\" d=\"M 228.630682 164.389176 \nL 380.8125 164.389176 \n\" style=\"fill:none;stroke:#b0b0b0;stroke-linecap:square;stroke-width:0.8;\"/>\n     </g>\n     <g id=\"line2d_36\">\n      <g>\n       <use style=\"stroke:#000000;stroke-width:0.8;\" x=\"228.630682\" xlink:href=\"#mb92b0f45a8\" y=\"164.389176\"/>\n      </g>\n     </g>\n     <g id=\"text_23\">\n      <!-- 0.015 -->\n      <g transform=\"translate(193.002557 168.188395)scale(0.1 -0.1)\">\n       <use xlink:href=\"#DejaVuSans-48\"/>\n       <use x=\"63.623047\" xlink:href=\"#DejaVuSans-46\"/>\n       <use x=\"95.410156\" xlink:href=\"#DejaVuSans-48\"/>\n       <use x=\"159.033203\" xlink:href=\"#DejaVuSans-49\"/>\n       <use x=\"222.65625\" xlink:href=\"#DejaVuSans-53\"/>\n      </g>\n     </g>\n    </g>\n    <g id=\"ytick_13\">\n     <g id=\"line2d_37\">\n      <path clip-path=\"url(#pe0116ae330)\" d=\"M 228.630682 134.705568 \nL 380.8125 134.705568 \n\" style=\"fill:none;stroke:#b0b0b0;stroke-linecap:square;stroke-width:0.8;\"/>\n     </g>\n     <g id=\"line2d_38\">\n      <g>\n       <use style=\"stroke:#000000;stroke-width:0.8;\" x=\"228.630682\" xlink:href=\"#mb92b0f45a8\" y=\"134.705568\"/>\n      </g>\n     </g>\n     <g id=\"text_24\">\n      <!-- 0.020 -->\n      <g transform=\"translate(193.002557 138.504787)scale(0.1 -0.1)\">\n       <use xlink:href=\"#DejaVuSans-48\"/>\n       <use x=\"63.623047\" xlink:href=\"#DejaVuSans-46\"/>\n       <use x=\"95.410156\" xlink:href=\"#DejaVuSans-48\"/>\n       <use x=\"159.033203\" xlink:href=\"#DejaVuSans-50\"/>\n       <use x=\"222.65625\" xlink:href=\"#DejaVuSans-48\"/>\n      </g>\n     </g>\n    </g>\n    <g id=\"ytick_14\">\n     <g id=\"line2d_39\">\n      <path clip-path=\"url(#pe0116ae330)\" d=\"M 228.630682 105.02196 \nL 380.8125 105.02196 \n\" style=\"fill:none;stroke:#b0b0b0;stroke-linecap:square;stroke-width:0.8;\"/>\n     </g>\n     <g id=\"line2d_40\">\n      <g>\n       <use style=\"stroke:#000000;stroke-width:0.8;\" x=\"228.630682\" xlink:href=\"#mb92b0f45a8\" y=\"105.02196\"/>\n      </g>\n     </g>\n     <g id=\"text_25\">\n      <!-- 0.025 -->\n      <g transform=\"translate(193.002557 108.821179)scale(0.1 -0.1)\">\n       <use xlink:href=\"#DejaVuSans-48\"/>\n       <use x=\"63.623047\" xlink:href=\"#DejaVuSans-46\"/>\n       <use x=\"95.410156\" xlink:href=\"#DejaVuSans-48\"/>\n       <use x=\"159.033203\" xlink:href=\"#DejaVuSans-50\"/>\n       <use x=\"222.65625\" xlink:href=\"#DejaVuSans-53\"/>\n      </g>\n     </g>\n    </g>\n    <g id=\"ytick_15\">\n     <g id=\"line2d_41\">\n      <path clip-path=\"url(#pe0116ae330)\" d=\"M 228.630682 75.338352 \nL 380.8125 75.338352 \n\" style=\"fill:none;stroke:#b0b0b0;stroke-linecap:square;stroke-width:0.8;\"/>\n     </g>\n     <g id=\"line2d_42\">\n      <g>\n       <use style=\"stroke:#000000;stroke-width:0.8;\" x=\"228.630682\" xlink:href=\"#mb92b0f45a8\" y=\"75.338352\"/>\n      </g>\n     </g>\n     <g id=\"text_26\">\n      <!-- 0.030 -->\n      <defs>\n       <path d=\"M 40.578125 39.3125 \nQ 47.65625 37.796875 51.625 33 \nQ 55.609375 28.21875 55.609375 21.1875 \nQ 55.609375 10.40625 48.1875 4.484375 \nQ 40.765625 -1.421875 27.09375 -1.421875 \nQ 22.515625 -1.421875 17.65625 -0.515625 \nQ 12.796875 0.390625 7.625 2.203125 \nL 7.625 11.71875 \nQ 11.71875 9.328125 16.59375 8.109375 \nQ 21.484375 6.890625 26.8125 6.890625 \nQ 36.078125 6.890625 40.9375 10.546875 \nQ 45.796875 14.203125 45.796875 21.1875 \nQ 45.796875 27.640625 41.28125 31.265625 \nQ 36.765625 34.90625 28.71875 34.90625 \nL 20.21875 34.90625 \nL 20.21875 43.015625 \nL 29.109375 43.015625 \nQ 36.375 43.015625 40.234375 45.921875 \nQ 44.09375 48.828125 44.09375 54.296875 \nQ 44.09375 59.90625 40.109375 62.90625 \nQ 36.140625 65.921875 28.71875 65.921875 \nQ 24.65625 65.921875 20.015625 65.03125 \nQ 15.375 64.15625 9.8125 62.3125 \nL 9.8125 71.09375 \nQ 15.4375 72.65625 20.34375 73.4375 \nQ 25.25 74.21875 29.59375 74.21875 \nQ 40.828125 74.21875 47.359375 69.109375 \nQ 53.90625 64.015625 53.90625 55.328125 \nQ 53.90625 49.265625 50.4375 45.09375 \nQ 46.96875 40.921875 40.578125 39.3125 \nz\n\" id=\"DejaVuSans-51\"/>\n      </defs>\n      <g transform=\"translate(193.002557 79.137571)scale(0.1 -0.1)\">\n       <use xlink:href=\"#DejaVuSans-48\"/>\n       <use x=\"63.623047\" xlink:href=\"#DejaVuSans-46\"/>\n       <use x=\"95.410156\" xlink:href=\"#DejaVuSans-48\"/>\n       <use x=\"159.033203\" xlink:href=\"#DejaVuSans-51\"/>\n       <use x=\"222.65625\" xlink:href=\"#DejaVuSans-48\"/>\n      </g>\n     </g>\n    </g>\n    <g id=\"ytick_16\">\n     <g id=\"line2d_43\">\n      <path clip-path=\"url(#pe0116ae330)\" d=\"M 228.630682 45.654744 \nL 380.8125 45.654744 \n\" style=\"fill:none;stroke:#b0b0b0;stroke-linecap:square;stroke-width:0.8;\"/>\n     </g>\n     <g id=\"line2d_44\">\n      <g>\n       <use style=\"stroke:#000000;stroke-width:0.8;\" x=\"228.630682\" xlink:href=\"#mb92b0f45a8\" y=\"45.654744\"/>\n      </g>\n     </g>\n     <g id=\"text_27\">\n      <!-- 0.035 -->\n      <g transform=\"translate(193.002557 49.453963)scale(0.1 -0.1)\">\n       <use xlink:href=\"#DejaVuSans-48\"/>\n       <use x=\"63.623047\" xlink:href=\"#DejaVuSans-46\"/>\n       <use x=\"95.410156\" xlink:href=\"#DejaVuSans-48\"/>\n       <use x=\"159.033203\" xlink:href=\"#DejaVuSans-51\"/>\n       <use x=\"222.65625\" xlink:href=\"#DejaVuSans-53\"/>\n      </g>\n     </g>\n    </g>\n   </g>\n   <g id=\"line2d_45\">\n    <path clip-path=\"url(#pe0116ae330)\" d=\"M 238.232947 253.438055 \nL 240.36936 253.305213 \nL 241.437566 253.037315 \nL 242.505772 252.57801 \nL 243.573979 251.696521 \nL 245.710391 249.275932 \nL 246.778597 247.829618 \nL 247.846804 245.998161 \nL 248.91501 243.662512 \nL 251.051423 236.268765 \nL 252.119629 231.439813 \nL 254.256041 219.141603 \nL 256.392454 204.035385 \nL 257.46066 194.939281 \nL 261.733485 145.47657 \nL 262.801692 128.637021 \nL 264.938104 90.723795 \nL 266.00631 66.943117 \nL 267.074517 48.272594 \nL 268.142723 46.354286 \nL 269.210929 59.938007 \nL 271.347342 94.318065 \nL 272.415548 115.252792 \nL 274.551961 152.809412 \nL 275.620167 175.15718 \nL 276.688373 191.899234 \nL 278.824786 216.190938 \nL 279.892992 225.934416 \nL 280.961198 232.958293 \nL 283.097611 241.255021 \nL 284.165817 244.428509 \nL 285.234023 246.309095 \nL 286.30223 247.952904 \nL 289.506849 251.45807 \nL 290.575055 251.870416 \nL 291.643261 251.964932 \nL 294.84788 252.618614 \nL 296.984293 252.754547 \nL 300.188911 253.169997 \nL 303.39353 253.105671 \nL 309.802768 253.422314 \nL 318.348418 253.44 \nL 373.895145 253.438897 \nL 373.895145 253.438897 \n\" style=\"fill:none;stroke:#1f77b4;stroke-linecap:square;stroke-width:1.5;\"/>\n   </g>\n   <g id=\"line2d_46\">\n    <path clip-path=\"url(#pe0116ae330)\" d=\"M 235.548037 253.439531 \nL 239.880729 253.32641 \nL 241.32496 252.993165 \nL 242.047076 252.650758 \nL 242.769191 251.981386 \nL 243.491306 250.572876 \nL 244.213422 248.048972 \nL 244.935537 244.80219 \nL 245.657652 242.132724 \nL 246.379768 240.738109 \nL 247.101883 239.858274 \nL 247.823998 238.638962 \nL 248.546114 237.015014 \nL 249.268229 235.105219 \nL 249.990345 232.712729 \nL 254.323037 215.199776 \nL 255.045152 211.047805 \nL 255.767268 205.754696 \nL 257.933614 185.877639 \nL 259.377844 172.05962 \nL 262.266306 147.102908 \nL 263.710537 128.830259 \nL 265.876883 100.146668 \nL 267.321113 86.679404 \nL 268.043229 82.204132 \nL 268.765344 81.752914 \nL 269.48746 84.504276 \nL 270.93169 93.832078 \nL 271.653806 99.26175 \nL 273.098036 112.818993 \nL 273.820152 121.576471 \nL 275.264382 144.919417 \nL 278.874959 204.484266 \nL 280.31919 221.899182 \nL 281.041305 228.99854 \nL 281.763421 234.42872 \nL 282.485536 238.246415 \nL 283.929767 243.501428 \nL 285.373998 247.816494 \nL 286.096113 249.295916 \nL 286.818228 250.287885 \nL 288.262459 251.566128 \nL 288.984574 251.95503 \nL 289.70669 252.05008 \nL 291.150921 252.013602 \nL 294.761497 252.809772 \nL 301.260536 253.374805 \nL 303.426882 253.371239 \nL 305.593228 253.399337 \nL 309.203805 253.39637 \nL 321.479766 253.438585 \nL 327.256689 253.439517 \nL 327.256689 253.439517 \n\" style=\"fill:none;stroke:#ff7f0e;stroke-linecap:square;stroke-width:1.5;\"/>\n   </g>\n   <g id=\"line2d_47\">\n    <path clip-path=\"url(#pe0116ae330)\" d=\"M 237.485871 253.433602 \nL 239.591203 253.318892 \nL 240.64387 253.088013 \nL 241.696536 252.673436 \nL 242.749203 252.045971 \nL 243.275536 251.602838 \nL 243.801869 251.007353 \nL 244.328202 250.187982 \nL 244.854536 249.074382 \nL 245.907202 245.850745 \nL 249.065201 233.428944 \nL 250.117868 228.422392 \nL 251.170534 221.56233 \nL 252.223201 212.750075 \nL 253.275867 201.521144 \nL 254.328534 186.279071 \nL 256.433866 149.597569 \nL 257.486533 137.616772 \nL 259.065533 123.360486 \nL 260.644532 106.584502 \nL 261.170865 102.429017 \nL 261.697199 99.491112 \nL 263.276198 93.156088 \nL 264.328865 86.441351 \nL 264.855198 83.096569 \nL 265.381531 80.881052 \nL 265.907864 80.462638 \nL 266.434198 82.105041 \nL 266.960531 85.707645 \nL 267.486864 91.004807 \nL 268.539531 105.840864 \nL 269.592197 125.361425 \nL 271.69753 166.851425 \nL 272.750196 181.855023 \nL 273.802863 191.756184 \nL 278.539862 224.811948 \nL 279.592528 231.128383 \nL 280.645195 235.788449 \nL 281.171528 237.406181 \nL 281.697861 238.621196 \nL 282.750527 240.317393 \nL 283.803194 241.892482 \nL 284.85586 244.018537 \nL 286.961193 248.910561 \nL 288.01386 250.560799 \nL 289.066526 251.503169 \nL 290.645526 252.325006 \nL 292.224525 253.022361 \nL 293.277192 253.295975 \nL 294.856191 253.419571 \nL 296.961524 253.332618 \nL 299.59319 253.071705 \nL 301.17219 253.222819 \nL 303.277523 253.415524 \nL 304.330189 253.433996 \nL 304.330189 253.433996 \n\" style=\"fill:none;stroke:#2ca02c;stroke-linecap:square;stroke-width:1.5;\"/>\n   </g>\n   <g id=\"patch_42\">\n    <path d=\"M 228.630682 253.44 \nL 228.630682 36 \n\" style=\"fill:none;stroke:#000000;stroke-linecap:square;stroke-linejoin:miter;stroke-width:0.8;\"/>\n   </g>\n   <g id=\"patch_43\">\n    <path d=\"M 380.8125 253.44 \nL 380.8125 36 \n\" style=\"fill:none;stroke:#000000;stroke-linecap:square;stroke-linejoin:miter;stroke-width:0.8;\"/>\n   </g>\n   <g id=\"patch_44\">\n    <path d=\"M 228.630682 253.44 \nL 380.8125 253.44 \n\" style=\"fill:none;stroke:#000000;stroke-linecap:square;stroke-linejoin:miter;stroke-width:0.8;\"/>\n   </g>\n   <g id=\"patch_45\">\n    <path d=\"M 228.630682 36 \nL 380.8125 36 \n\" style=\"fill:none;stroke:#000000;stroke-linecap:square;stroke-linejoin:miter;stroke-width:0.8;\"/>\n   </g>\n  </g>\n  <g id=\"text_28\">\n   <!-- char_count -->\n   <defs>\n    <path d=\"M 48.78125 52.59375 \nL 48.78125 44.1875 \nQ 44.96875 46.296875 41.140625 47.34375 \nQ 37.3125 48.390625 33.40625 48.390625 \nQ 24.65625 48.390625 19.8125 42.84375 \nQ 14.984375 37.3125 14.984375 27.296875 \nQ 14.984375 17.28125 19.8125 11.734375 \nQ 24.65625 6.203125 33.40625 6.203125 \nQ 37.3125 6.203125 41.140625 7.25 \nQ 44.96875 8.296875 48.78125 10.40625 \nL 48.78125 2.09375 \nQ 45.015625 0.34375 40.984375 -0.53125 \nQ 36.96875 -1.421875 32.421875 -1.421875 \nQ 20.0625 -1.421875 12.78125 6.34375 \nQ 5.515625 14.109375 5.515625 27.296875 \nQ 5.515625 40.671875 12.859375 48.328125 \nQ 20.21875 56 33.015625 56 \nQ 37.15625 56 41.109375 55.140625 \nQ 45.0625 54.296875 48.78125 52.59375 \nz\n\" id=\"DejaVuSans-99\"/>\n    <path d=\"M 50.984375 -16.609375 \nL 50.984375 -23.578125 \nL -0.984375 -23.578125 \nL -0.984375 -16.609375 \nz\n\" id=\"DejaVuSans-95\"/>\n    <path d=\"M 8.5 21.578125 \nL 8.5 54.6875 \nL 17.484375 54.6875 \nL 17.484375 21.921875 \nQ 17.484375 14.15625 20.5 10.265625 \nQ 23.53125 6.390625 29.59375 6.390625 \nQ 36.859375 6.390625 41.078125 11.03125 \nQ 45.3125 15.671875 45.3125 23.6875 \nL 45.3125 54.6875 \nL 54.296875 54.6875 \nL 54.296875 0 \nL 45.3125 0 \nL 45.3125 8.40625 \nQ 42.046875 3.421875 37.71875 1 \nQ 33.40625 -1.421875 27.6875 -1.421875 \nQ 18.265625 -1.421875 13.375 4.4375 \nQ 8.5 10.296875 8.5 21.578125 \nz\nM 31.109375 56 \nz\n\" id=\"DejaVuSans-117\"/>\n   </defs>\n   <g transform=\"translate(174.84 16.318125)scale(0.12 -0.12)\">\n    <use xlink:href=\"#DejaVuSans-99\"/>\n    <use x=\"54.980469\" xlink:href=\"#DejaVuSans-104\"/>\n    <use x=\"118.359375\" xlink:href=\"#DejaVuSans-97\"/>\n    <use x=\"179.638672\" xlink:href=\"#DejaVuSans-114\"/>\n    <use x=\"220.751953\" xlink:href=\"#DejaVuSans-95\"/>\n    <use x=\"270.751953\" xlink:href=\"#DejaVuSans-99\"/>\n    <use x=\"325.732422\" xlink:href=\"#DejaVuSans-111\"/>\n    <use x=\"386.914062\" xlink:href=\"#DejaVuSans-117\"/>\n    <use x=\"450.292969\" xlink:href=\"#DejaVuSans-110\"/>\n    <use x=\"513.671875\" xlink:href=\"#DejaVuSans-116\"/>\n   </g>\n  </g>\n </g>\n <defs>\n  <clipPath id=\"p0997c4e72f\">\n   <rect height=\"217.44\" width=\"152.181818\" x=\"46.0125\" y=\"36\"/>\n  </clipPath>\n  <clipPath id=\"pe0116ae330\">\n   <rect height=\"217.44\" width=\"152.181818\" x=\"228.630682\" y=\"36\"/>\n  </clipPath>\n </defs>\n</svg>\n",
      "image/png": "[encoded data removed]"
     },
     "metadata": {
      "needs_background": "light"
     }
    }
   ],
   "source": [
    "\"\"\"\n",
    "What’s the distribution of those new variables with respect to the target? To answer that I’ll look at the bivariate distributions (how two variables move together). First, I shall split the whole set of observations into 3 samples (Politics, Entertainment, Tech), then compare the histograms and densities of the samples. If the distributions are different then the variable is predictive because the 3 groups have different patterns.\n",
    "For instance, let’s see if the character count is correlated with the target variable.\n",
    "\n",
    "\"\"\"\n",
    "\n",
    "x, y = \"char_count\", \"y\"\n",
    "fig, ax = plt.subplots(nrows=1, ncols=2)\n",
    "fig.suptitle(x, fontsize=12)\n",
    "for i in dtf[y].unique():\n",
    "    sns.distplot(dtf[dtf[y]==i][x], hist=True, kde=False, \n",
    "                 bins=10, hist_kws={\"alpha\":0.8}, \n",
    "                 axlabel=\"histogram\", ax=ax[0])\n",
    "    sns.distplot(dtf[dtf[y]==i][x], hist=False, kde=True, \n",
    "                 kde_kws={\"shade\":True}, axlabel=\"density\",   \n",
    "                 ax=ax[1])\n",
    "ax[0].grid(True)\n",
    "ax[0].legend(dtf[y].unique())\n",
    "ax[1].grid(True)\n",
    "plt.show()\n",
    "\n"
   ]
  },
  {
   "cell_type": "code",
   "execution_count": 13,
   "metadata": {},
   "outputs": [
    {
     "output_type": "execute_result",
     "data": {
      "text/plain": [
       "               y                                               text lang  \\\n",
       "1  ENTERTAINMENT  Will Smith Joins Diplo And Nicky Jam For The 2...   en   \n",
       "2  ENTERTAINMENT    Hugh Grant Marries For The First Time At Age 57   en   \n",
       "3  ENTERTAINMENT  Jim Carrey Blasts 'Castrato' Adam Schiff And D...   en   \n",
       "4  ENTERTAINMENT  Julianna Margulies Uses Donald Trump Poop Bags...   en   \n",
       "5  ENTERTAINMENT  Morgan Freeman 'Devastated' That Sexual Harass...   en   \n",
       "\n",
       "   word_count  char_count  sentence_count  avg_word_length  \\\n",
       "1          14          62               1         4.428571   \n",
       "2          10          38               1         3.800000   \n",
       "3          11          59               1         5.363636   \n",
       "4          13          59               1         4.538462   \n",
       "5          10          71               1         7.100000   \n",
       "\n",
       "   avg_sentence_lenght  sentiment  \n",
       "1                 14.0   0.000000  \n",
       "2                 10.0   0.250000  \n",
       "3                 11.0   0.136364  \n",
       "4                 13.0   0.000000  \n",
       "5                 10.0   0.500000  "
      ],
      "text/html": "<div>\n<style scoped>\n    .dataframe tbody tr th:only-of-type {\n        vertical-align: middle;\n    }\n\n    .dataframe tbody tr th {\n        vertical-align: top;\n    }\n\n    .dataframe thead th {\n        text-align: right;\n    }\n</style>\n<table border=\"1\" class=\"dataframe\">\n  <thead>\n    <tr style=\"text-align: right;\">\n      <th></th>\n      <th>y</th>\n      <th>text</th>\n      <th>lang</th>\n      <th>word_count</th>\n      <th>char_count</th>\n      <th>sentence_count</th>\n      <th>avg_word_length</th>\n      <th>avg_sentence_lenght</th>\n      <th>sentiment</th>\n    </tr>\n  </thead>\n  <tbody>\n    <tr>\n      <th>1</th>\n      <td>ENTERTAINMENT</td>\n      <td>Will Smith Joins Diplo And Nicky Jam For The 2...</td>\n      <td>en</td>\n      <td>14</td>\n      <td>62</td>\n      <td>1</td>\n      <td>4.428571</td>\n      <td>14.0</td>\n      <td>0.000000</td>\n    </tr>\n    <tr>\n      <th>2</th>\n      <td>ENTERTAINMENT</td>\n      <td>Hugh Grant Marries For The First Time At Age 57</td>\n      <td>en</td>\n      <td>10</td>\n      <td>38</td>\n      <td>1</td>\n      <td>3.800000</td>\n      <td>10.0</td>\n      <td>0.250000</td>\n    </tr>\n    <tr>\n      <th>3</th>\n      <td>ENTERTAINMENT</td>\n      <td>Jim Carrey Blasts 'Castrato' Adam Schiff And D...</td>\n      <td>en</td>\n      <td>11</td>\n      <td>59</td>\n      <td>1</td>\n      <td>5.363636</td>\n      <td>11.0</td>\n      <td>0.136364</td>\n    </tr>\n    <tr>\n      <th>4</th>\n      <td>ENTERTAINMENT</td>\n      <td>Julianna Margulies Uses Donald Trump Poop Bags...</td>\n      <td>en</td>\n      <td>13</td>\n      <td>59</td>\n      <td>1</td>\n      <td>4.538462</td>\n      <td>13.0</td>\n      <td>0.000000</td>\n    </tr>\n    <tr>\n      <th>5</th>\n      <td>ENTERTAINMENT</td>\n      <td>Morgan Freeman 'Devastated' That Sexual Harass...</td>\n      <td>en</td>\n      <td>10</td>\n      <td>71</td>\n      <td>1</td>\n      <td>7.100000</td>\n      <td>10.0</td>\n      <td>0.500000</td>\n    </tr>\n  </tbody>\n</table>\n</div>"
     },
     "metadata": {},
     "execution_count": 13
    }
   ],
   "source": [
    "\n",
    "# Sentiment Analysis\n",
    "dtf[\"sentiment\"] = dtf[\"text\"].apply(lambda x: \n",
    "                   TextBlob(x).sentiment.polarity)\n",
    "dtf.head()\n",
    "\n"
   ]
  },
  {
   "cell_type": "code",
   "execution_count": 34,
   "metadata": {},
   "outputs": [
    {
     "output_type": "stream",
     "name": "stdout",
     "text": [
      "Will Smith Joins Diplo And Nicky Jam For The 2018 World Cup's Official Song  -->  0.0\n"
     ]
    }
   ],
   "source": [
    "\n",
    "# output the sentiment for the first sentence\n",
    "print(dtf[\"text\"].iloc[0], \" --> \", dtf[\"sentiment\"].iloc[0])\n"
   ]
  },
  {
   "cell_type": "code",
   "execution_count": 14,
   "metadata": {},
   "outputs": [
    {
     "output_type": "display_data",
     "data": {
      "text/plain": "<IPython.core.display.HTML object>",
      "text/html": "<span class=\"tex2jax_ignore\"><div class=\"entities\" style=\"line-height: 2.5; direction: ltr\">\n<mark class=\"entity\" style=\"background: #aa9cfc; padding: 0.45em 0.6em; margin: 0 0.25em; line-height: 1; border-radius: 0.35em;\">\n    Will Smith\n    <span style=\"font-size: 0.8em; font-weight: bold; line-height: 1; border-radius: 0.35em; text-transform: uppercase; vertical-align: middle; margin-left: 0.5rem\">PERSON</span>\n</mark>\n Joins \n<mark class=\"entity\" style=\"background: #aa9cfc; padding: 0.45em 0.6em; margin: 0 0.25em; line-height: 1; border-radius: 0.35em;\">\n    Diplo\n    <span style=\"font-size: 0.8em; font-weight: bold; line-height: 1; border-radius: 0.35em; text-transform: uppercase; vertical-align: middle; margin-left: 0.5rem\">PERSON</span>\n</mark>\n And \n<mark class=\"entity\" style=\"background: #aa9cfc; padding: 0.45em 0.6em; margin: 0 0.25em; line-height: 1; border-radius: 0.35em;\">\n    Nicky Jam\n    <span style=\"font-size: 0.8em; font-weight: bold; line-height: 1; border-radius: 0.35em; text-transform: uppercase; vertical-align: middle; margin-left: 0.5rem\">PERSON</span>\n</mark>\n For \n<mark class=\"entity\" style=\"background: #ffeb80; padding: 0.45em 0.6em; margin: 0 0.25em; line-height: 1; border-radius: 0.35em;\">\n    The 2018 World Cup's\n    <span style=\"font-size: 0.8em; font-weight: bold; line-height: 1; border-radius: 0.35em; text-transform: uppercase; vertical-align: middle; margin-left: 0.5rem\">EVENT</span>\n</mark>\n Official Song</div></span>"
     },
     "metadata": {}
    }
   ],
   "source": [
    "# USING SPACY\n",
    "\n",
    "# Named-Entity Recognition\n",
    "\n",
    "## call model\n",
    "ner = spacy.load(\"en_core_web_lg\")\n",
    "## tag text\n",
    "txt = dtf[\"text\"].iloc[0]\n",
    "doc = ner(txt)\n",
    "## display result\n",
    "spacy.displacy.render(doc, style=\"ent\")\n"
   ]
  },
  {
   "cell_type": "code",
   "execution_count": 1,
   "metadata": {},
   "outputs": [
    {
     "output_type": "error",
     "ename": "NameError",
     "evalue": "name 'dtf' is not defined",
     "traceback": [
      "\u001b[0;31m---------------------------------------------------------------------------\u001b[0m",
      "\u001b[0;31mNameError\u001b[0m                                 Traceback (most recent call last)",
      "\u001b[0;32m<ipython-input-1-7b4dc756a7f4>\u001b[0m in \u001b[0;36m<module>\u001b[0;34m\u001b[0m\n\u001b[1;32m      1\u001b[0m \u001b[0;31m# CAUTION VERY LONG PROCESS, BE PATIENT\u001b[0m\u001b[0;34m\u001b[0m\u001b[0;34m\u001b[0m\u001b[0;34m\u001b[0m\u001b[0m\n\u001b[1;32m      2\u001b[0m \u001b[0;31m## tag text and exctract tags into a list\u001b[0m\u001b[0;34m\u001b[0m\u001b[0;34m\u001b[0m\u001b[0;34m\u001b[0m\u001b[0m\n\u001b[0;32m----> 3\u001b[0;31m dtf[\"tags\"] = dtf[\"text\"].apply(lambda x: [(tag.text, tag.label_) \n\u001b[0m\u001b[1;32m      4\u001b[0m                                 for tag in ner(x).ents] )\n\u001b[1;32m      5\u001b[0m \u001b[0;31m## utils function to count the element of a list\u001b[0m\u001b[0;34m\u001b[0m\u001b[0;34m\u001b[0m\u001b[0;34m\u001b[0m\u001b[0m\n",
      "\u001b[0;31mNameError\u001b[0m: name 'dtf' is not defined"
     ]
    }
   ],
   "source": [
    "\n",
    "# CAUTION VERY LONG PROCESS, BE PATIENT\n",
    "## tag text and exctract tags into a list\n",
    "dtf[\"tags\"] = dtf[\"text\"].apply(lambda x: [(tag.text, tag.label_) \n",
    "                                for tag in ner(x).ents] )\n",
    "## utils function to count the element of a list\n",
    "def utils_lst_count(lst):\n",
    "    dic_counter = collections.Counter()\n",
    "    for x in lst:\n",
    "        dic_counter[x] += 1\n",
    "    dic_counter = collections.OrderedDict( \n",
    "                     sorted(dic_counter.items(), \n",
    "                     key=lambda x: x[1], reverse=True))\n",
    "    lst_count = [ {key:value} for key,value in dic_counter.items() ]\n",
    "    return lst_count\n",
    "\n",
    "## count tags\n",
    "dtf[\"tags\"] = dtf[\"tags\"].apply(lambda x: utils_lst_count(x))\n",
    "\n",
    "## utils function create new column for each tag category\n",
    "def utils_ner_features(lst_dics_tuples, tag):\n",
    "    if len(lst_dics_tuples) > 0:\n",
    "        tag_type = []\n",
    "        for dic_tuples in lst_dics_tuples:\n",
    "            for tuple in dic_tuples:\n",
    "                type, n = tuple[1], dic_tuples[tuple]\n",
    "                tag_type = tag_type + [type]*n\n",
    "                dic_counter = collections.Counter()\n",
    "                for x in tag_type:\n",
    "                    dic_counter[x] += 1\n",
    "        return dic_counter[tag]\n",
    "    else:\n",
    "        return 0\n",
    "\n",
    "## extract features\n",
    "tags_set = []\n",
    "for lst in dtf[\"tags\"].tolist():\n",
    "     for dic in lst:\n",
    "          for k in dic.keys():\n",
    "              tags_set.append(k[1])\n",
    "tags_set = list(set(tags_set))\n",
    "for feature in tags_set:\n",
    "     dtf[\"tags_\"+feature] = dtf[\"tags\"].apply(lambda x: \n",
    "                             utils_ner_features(x, feature))\n",
    "\n",
    "## print result\n",
    "# dtf.head()\n",
    "\n",
    "# output image\n",
    "# Unpack the column “tags” we created in the previous code.\n",
    "\n",
    "# not working\n",
    "\"\"\"\n",
    "y = \"ENTERTAINMENT\"\n",
    " \n",
    "tags_list = dtf[dtf[\"y\"]==y][\"tags\"].sum()\n",
    "map_lst = list(map(lambda x: list(x.keys())[0], tags_list))\n",
    "dtf_tags = pd.DataFrame(map_lst, columns=['tag','type'])\n",
    "dtf_tags[\"count\"] = 1\n",
    "dtf_tags = dtf_tags.groupby(['type',  \n",
    "                'tag']).count().reset_index().sort_values(\"count\", \n",
    "                 ascending=False)\n",
    "fig, ax = plt.subplots()\n",
    "fig.suptitle(\"Top frequent tags\", fontsize=12)\n",
    "\n",
    "# change\n",
    "# sns.barplot(x=\"count\", y=\"tag\", hue=\"type\", data=dtf_tags.iloc[:top,:], dodge=False, ax=ax)\n",
    "# sns.barplot(x=\"count\", y=\"tag\", hue=\"type\", data=dtf_tags.iloc[:,:], dodge=False, ax=ax)\n",
    "\n",
    "# sns.barplot(x=\"count\", y=\"tag\", hue=\"type\", data=dtf_tags.iloc[[0,2], [0,1]], dodge=False, ax=ax)\n",
    "\n",
    "# exemples\n",
    "# df.iloc[[0,2], [0,1]]\n",
    "# print(df.iloc[:,0:4])\n",
    "sns.barplot(x=\"count\", y=\"tag\", hue=\"type\", data=dtf_tags.iloc[:,0:4], dodge=False, ax=ax)\n",
    "\n",
    "ax.grid(axis=\"x\")\n",
    "plt.show()\n",
    "\"\"\""
   ]
  },
  {
   "cell_type": "code",
   "execution_count": null,
   "metadata": {},
   "outputs": [],
   "source": [
    "\n",
    "\n",
    "## predict wit NER\n",
    "txt = dtf[\"text\"].iloc[0]\n",
    "entities = ner(txt).ents\n",
    "## tag text\n",
    "tagged_txt = txt\n",
    "for tag in entities:\n",
    "    tagged_txt = re.sub(tag.text, \"_\".join(tag.text.split()), \n",
    "                        tagged_txt) \n",
    "## show result\n",
    "print(tagged_txt)\n",
    "\n"
   ]
  },
  {
   "cell_type": "code",
   "execution_count": null,
   "metadata": {},
   "outputs": [],
   "source": []
  }
 ]
}