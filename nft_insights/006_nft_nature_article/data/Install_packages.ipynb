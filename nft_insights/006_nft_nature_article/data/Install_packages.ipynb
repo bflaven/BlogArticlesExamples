{
 "cells": [
  {
   "cell_type": "code",
   "execution_count": 8,
   "id": "b291eeba-9b71-49a1-be2c-c72c8c75495e",
   "metadata": {},
   "outputs": [
    {
     "name": "stdout",
     "output_type": "stream",
     "text": [
      "Requirement already satisfied: pip in /home/enterprise.internal.city.ac.uk/sbrp601/anaconda3/lib/python3.8/site-packages (21.2.4)\n"
     ]
    }
   ],
   "source": [
    "!pip install --upgrade pip"
   ]
  },
  {
   "cell_type": "code",
   "execution_count": 7,
   "id": "5d4e1fb7-de7b-44da-a8fb-aa959aff6527",
   "metadata": {},
   "outputs": [
    {
     "name": "stdout",
     "output_type": "stream",
     "text": [
      "Requirement already satisfied: pandas in /home/enterprise.internal.city.ac.uk/sbrp601/anaconda3/lib/python3.8/site-packages (1.2.5)\n",
      "Requirement already satisfied: numpy>=1.16.5 in /home/enterprise.internal.city.ac.uk/sbrp601/anaconda3/lib/python3.8/site-packages (from pandas) (1.19.5)\n",
      "Requirement already satisfied: pytz>=2017.3 in /home/enterprise.internal.city.ac.uk/sbrp601/anaconda3/lib/python3.8/site-packages (from pandas) (2021.1)\n",
      "Requirement already satisfied: python-dateutil>=2.7.3 in /home/enterprise.internal.city.ac.uk/sbrp601/anaconda3/lib/python3.8/site-packages (from pandas) (2.8.1)\n",
      "Requirement already satisfied: six>=1.5 in /home/enterprise.internal.city.ac.uk/sbrp601/anaconda3/lib/python3.8/site-packages (from python-dateutil>=2.7.3->pandas) (1.15.0)\n",
      "Requirement already satisfied: requests in /home/enterprise.internal.city.ac.uk/sbrp601/anaconda3/lib/python3.8/site-packages (2.25.1)\n",
      "Requirement already satisfied: urllib3<1.27,>=1.21.1 in /home/enterprise.internal.city.ac.uk/sbrp601/anaconda3/lib/python3.8/site-packages (from requests) (1.26.5)\n",
      "Requirement already satisfied: certifi>=2017.4.17 in /home/enterprise.internal.city.ac.uk/sbrp601/anaconda3/lib/python3.8/site-packages (from requests) (2021.5.30)\n",
      "Requirement already satisfied: idna<3,>=2.5 in /home/enterprise.internal.city.ac.uk/sbrp601/anaconda3/lib/python3.8/site-packages (from requests) (2.10)\n",
      "Requirement already satisfied: chardet<5,>=3.0.2 in /home/enterprise.internal.city.ac.uk/sbrp601/anaconda3/lib/python3.8/site-packages (from requests) (4.0.0)\n",
      "Requirement already satisfied: datetime in /home/enterprise.internal.city.ac.uk/sbrp601/anaconda3/lib/python3.8/site-packages (4.3)\n",
      "Requirement already satisfied: pytz in /home/enterprise.internal.city.ac.uk/sbrp601/anaconda3/lib/python3.8/site-packages (from datetime) (2021.1)\n",
      "Requirement already satisfied: zope.interface in /home/enterprise.internal.city.ac.uk/sbrp601/anaconda3/lib/python3.8/site-packages (from datetime) (5.4.0)\n",
      "Requirement already satisfied: setuptools in /home/enterprise.internal.city.ac.uk/sbrp601/anaconda3/lib/python3.8/site-packages (from zope.interface->datetime) (57.0.0)\n",
      "Requirement already satisfied: gql in /home/enterprise.internal.city.ac.uk/sbrp601/anaconda3/lib/python3.8/site-packages (3.0.0a5)\n",
      "Requirement already satisfied: yarl<2.0,>=1.6 in /home/enterprise.internal.city.ac.uk/sbrp601/anaconda3/lib/python3.8/site-packages (from gql) (1.6.3)\n",
      "Requirement already satisfied: graphql-core<3.2,>=3.1 in /home/enterprise.internal.city.ac.uk/sbrp601/anaconda3/lib/python3.8/site-packages (from gql) (3.1.5)\n",
      "Requirement already satisfied: multidict>=4.0 in /home/enterprise.internal.city.ac.uk/sbrp601/anaconda3/lib/python3.8/site-packages (from yarl<2.0,>=1.6->gql) (5.1.0)\n",
      "Requirement already satisfied: idna>=2.0 in /home/enterprise.internal.city.ac.uk/sbrp601/anaconda3/lib/python3.8/site-packages (from yarl<2.0,>=1.6->gql) (2.10)\n"
     ]
    }
   ],
   "source": [
    "!pip install pandas\n",
    "!pip install requests\n",
    "!pip install datetime\n",
    "!pip install gql"
   ]
  },
  {
   "cell_type": "code",
   "execution_count": null,
   "id": "02947af0-cad2-46e5-847b-e332a1a22574",
   "metadata": {},
   "outputs": [],
   "source": []
  }
 ],
 "metadata": {
  "kernelspec": {
   "display_name": "Python 3",
   "language": "python",
   "name": "python3"
  },
  "language_info": {
   "codemirror_mode": {
    "name": "ipython",
    "version": 3
   },
   "file_extension": ".py",
   "mimetype": "text/x-python",
   "name": "python",
   "nbconvert_exporter": "python",
   "pygments_lexer": "ipython3",
   "version": "3.8.5"
  }
 },
 "nbformat": 4,
 "nbformat_minor": 5
}
